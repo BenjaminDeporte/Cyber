{
 "cells": [
  {
   "cell_type": "markdown",
   "metadata": {},
   "source": [
    "# LANL Host Dataset"
   ]
  },
  {
   "cell_type": "markdown",
   "metadata": {},
   "source": [
    "### Article : https://www.worldscientific.com/doi/pdf/10.1142/9781786345646_001\n",
    "\n",
    "Notes:\n",
    "\n",
    "\"The events from the host logs included in the data set are all related to authentication and process activity on each machine\""
   ]
  },
  {
   "cell_type": "markdown",
   "metadata": {},
   "source": [
    "### Pour obtenir le dataset:\n",
    "1- https://csr.lanl.gov/data/2017/#citing : donner mail, obtenir le lien\n",
    "\n",
    "2- https://csr.lanl.gov/data-fence/... 10 chiffres.../... token... iXYXXbqw15UugRnZALCZ2Y8dvEk=... /unified-host-network-dataset-2017/wls.html pour avoir l'index avec tous les fichiers compressés\n",
    "\n",
    "3- download : for i in $(seq -w 1 90); do wget -c https://csr.lanl.gov/data-fence/...10 chiffres.../...token.../unified-host-network-dataset-2017/wls/wls_day-$i.bz2; done\n",
    "\n",
    "4- decompress, as required : bzip2 -dk filename.bz2"
   ]
  },
  {
   "cell_type": "markdown",
   "metadata": {},
   "source": [
    "### EventID : \n",
    "\n",
    "EventID         Description\n",
    "\n",
    "Authentication events\n",
    "\n",
    "4768            Kerberos authentication ticket was requested (TGT)\n",
    "\n",
    "4769            Kerberos service ticket was requested (TGS)\n",
    "\n",
    "4770            Kerberos service ticket was renewed\n",
    "\n",
    "4774            An account was mapped for logon\n",
    "\n",
    "4776            Domain controller attempted to validate credentials\n",
    "\n",
    "4624            An account successfully logged on, see Logon Types\n",
    "\n",
    "4625            An account failed to logon, see Logon Types\n",
    "\n",
    "4634            An account was logged off, see Logon Types\n",
    "\n",
    "4647            User initiated logoff\n",
    "\n",
    "4648            A logon was attempted using explicit credentials\n",
    "\n",
    "4672            Special privileges assigned to a new logon\n",
    "\n",
    "4800            The workstation was locked\n",
    "\n",
    "4801            The workstation was unlocked\n",
    "\n",
    "4802            The screensaver was invoked\n",
    "\n",
    "4803            The screensaver was dismissed\n",
    "\n",
    "Process events\n",
    "\n",
    "4688            Process start\n",
    "\n",
    "4689            Process end\n",
    "\n",
    "System events\n",
    "\n",
    "4608            Windows is starting up\n",
    "\n",
    "4609            Windows is shutting down\n",
    "\n",
    "1100            Event logging service has shut down (often recorded instead of EventID 4609)\n",
    "\n",
    "\n",
    "Detailed description : - EventID : https://learn.microsoft.com/en-us/windows-server/identity/ad-ds/plan/appendix-l--events-to-monitor\n"
   ]
  },
  {
   "cell_type": "markdown",
   "metadata": {},
   "source": [
    "### Logon Types for EventIDs: 4624, 4625 and 4634\n",
    "\n",
    "LogonTypes (EventIDs: 4624, 4625 and 4634)\n",
    "\n",
    "2 — Interactive\n",
    "\n",
    "3 — Network\n",
    "\n",
    "4 — Batch\n",
    "\n",
    "12 — Cached Remote-Interactive\n",
    "\n",
    "5 — Service\n",
    "\n",
    "9 — New Credentials\n",
    "\n",
    "7 — Unlock\n",
    "\n",
    "10 — Remote Interactive\n",
    "\n",
    "8 — Network Clear Text 11 — Cached Interactive\n",
    "\n",
    "0 — Used only by the system account"
   ]
  },
  {
   "cell_type": "markdown",
   "metadata": {},
   "source": [
    "### Host Log Fields\n",
    "\n",
    ". Time: The epoch time of the event in seconds.\n",
    "\n",
    "• EventID: Four digit integer corresponding to the event id of the record.\n",
    "\n",
    "• LogHost: The hostname of the computer that the event was recorded on.In the case of directed authentication events, the LogHost will correspond to the computer that the authentication event is terminating at (destination computer).\n",
    "\n",
    "• LogonType: Integer corresponding to the type of logon, see Table 2.\n",
    "\n",
    "• LogonTypeDescription: Description of the LogonType, see Table 2.\n",
    "\n",
    "• UserName: The user account initiating the event. If the user ends in $, then it corresponds to a computer account for the specified computer.\n",
    "\n",
    "• DomainName: Domain name of UserName.\n",
    "\n",
    "• LogonID: A semi-unique (unique between current sessions and LogHost)number that identifies the logon session just initiated. Any events logged subsequently during this logon session should report the same LogonID through to the logoff event.\n",
    "\n",
    "• SubjectUserName: For authentication mapping events, the user account specified by this field is mapping to the user account in UserName.\n",
    "\n",
    "• SubjectDomainName: Domain name of SubjectUserName.\n",
    "\n",
    "• SubjectLogonID: See LogonID.\n",
    "\n",
    "• Status: Status of the authentication request. “0 × 0” means success otherwise failure; failure codes for the appropriate EventID are available online.f\n",
    "\n",
    "• Source: For authentication events, this will correspond to the the computer where the authentication originated (source computer), if it is a local logon event then this will be the same as the LogHost.\n",
    "\n",
    "• ServiceName: The account name of the computer or service the user is requesting the ticket for.\n",
    "\n",
    "• Destination: This is the server the mapped credential is accessing. This may indicate the local computer when starting another process with new account credentials on a local computer.\n",
    "\n",
    "• AuthenticationPackage: The type of authentication occurring including Negotiate, Kerberos, NTLM plus a few more.\n",
    "\n",
    "• FailureReason: The reason for a failed logon.\n",
    "\n",
    "• ProcessName: The process executable name, for authentication events this is the process that processed the authentication event. ProcessNames may include the file type extensions (i.e., exe).\n",
    "\n",
    "• ProcessID: A semi-unique (unique between currently running processes AND LogHost) value that identifies the process. ProcessID allows you to correlate other events logged in association with the same process through to the process end.\n",
    "\n",
    "• ParentProcessName: The process executable that started the new process. ParentProcessNames often do not have file extensions like ProcessName but can be compared by removing file extensions from the name.\n",
    "\n",
    "• ParentProcessID: Identifies the exact process that started the new process. Look for a preceding event 4688 with a ProcessID that matches this ParentProcessID."
   ]
  },
  {
   "cell_type": "code",
   "execution_count": 20,
   "metadata": {},
   "outputs": [],
   "source": [
    "import json"
   ]
  },
  {
   "cell_type": "code",
   "execution_count": 21,
   "metadata": {},
   "outputs": [],
   "source": [
    "# lit le fichier de 12+ Gb ligne par ligne\n",
    "\n",
    "dirpath = '/home/benjamin/Folders_Python/Cyber/data/LALN_processed/'\n",
    "filename = 'wls_day-01.json'\n",
    "\n",
    "filepath = dirpath + filename"
   ]
  },
  {
   "cell_type": "code",
   "execution_count": 22,
   "metadata": {},
   "outputs": [
    {
     "name": "stdout",
     "output_type": "stream",
     "text": [
      "{'UserName': 'Comp607982$', 'EventID': 4688, 'LogHost': 'Comp607982', 'LogonID': '0x3e7', 'DomainName': 'Domain001', 'ParentProcessName': 'services', 'ParentProcessID': '0x2ac', 'ProcessName': 'svchost.exe', 'Time': 1, 'ProcessID': '0x1418'}\n",
      "{'UserName': 'Comp991643$', 'EventID': 4688, 'LogHost': 'Comp991643', 'LogonID': '0x3e7', 'DomainName': 'Domain001', 'ParentProcessName': 'services', 'ParentProcessID': '0x334', 'ProcessName': 'rundll32.exe', 'Time': 1, 'ProcessID': '0xc0c'}\n",
      "{'UserName': 'Comp736087$', 'EventID': 4688, 'LogHost': 'Comp736087', 'LogonID': '0x3e7', 'DomainName': 'Domain001', 'ParentProcessName': 'services', 'ParentProcessID': '0x2e8', 'ProcessName': 'svchost.exe', 'Time': 1, 'ProcessID': '0x2074'}\n",
      "{'UserName': 'Comp093128$', 'EventID': 4688, 'LogHost': 'Comp093128', 'LogonID': '0x3e7', 'DomainName': 'Domain001', 'ParentProcessName': 'services', 'ParentProcessID': '0x2d4', 'ProcessName': 'vssvc.exe', 'Time': 1, 'ProcessID': '0x2200'}\n",
      "{'UserName': 'Comp006850$', 'EventID': 4688, 'LogHost': 'Comp006850', 'LogonID': '0x3e7', 'DomainName': 'Domain001', 'ParentProcessName': 'services', 'ParentProcessID': '0x278', 'ProcessName': 'svchost.exe', 'Time': 1, 'ProcessID': '0x498'}\n",
      "{'UserName': 'system', 'EventID': 4624, 'LogHost': 'Comp828729', 'LogonID': '0x3e7', 'DomainName': 'nt authority', 'LogonTypeDescription': 'Service', 'ProcessName': 'services.exe', 'AuthenticationPackage': 'Negotiate', 'Time': 1, 'LogonType': 5, 'ProcessID': '0x29c'}\n",
      "{'UserName': 'system', 'EventID': 4672, 'LogHost': 'Comp828729', 'LogonID': '0x3e7', 'DomainName': 'nt authority', 'Time': 1}\n",
      "{'UserName': 'system', 'EventID': 4672, 'LogHost': 'Comp423597', 'LogonID': '0x3e7', 'DomainName': 'nt authority', 'Time': 1}\n",
      "{'UserName': 'Comp466209$', 'EventID': 4688, 'LogHost': 'Comp466209', 'LogonID': '0x3e7', 'DomainName': 'Domain001', 'ParentProcessName': 'services', 'ParentProcessID': '0x354', 'ProcessName': 'vssvc.exe', 'Time': 1, 'ProcessID': '0x2d20'}\n",
      "{'UserName': 'Comp688526$', 'EventID': 4688, 'LogHost': 'Comp688526', 'LogonID': '0x3e7', 'DomainName': 'Domain001', 'ParentProcessName': 'services', 'ParentProcessID': '0x2b8', 'ProcessName': 'svchost.exe', 'Time': 1, 'ProcessID': '0x1ac0'}\n"
     ]
    }
   ],
   "source": [
    "# lit fichier ligne à ligne\n",
    "\n",
    "N_SAMPLES = 10\n",
    "with open(filepath, 'r') as f:\n",
    "    for i in range(N_SAMPLES):\n",
    "        line = f.readline()\n",
    "        # print(line)\n",
    "        # print(json.dumps(line, sort_keys=True, indent=4))\n",
    "        obj_json = json.loads(line)\n",
    "        print(obj_json)"
   ]
  },
  {
   "cell_type": "code",
   "execution_count": 23,
   "metadata": {},
   "outputs": [],
   "source": [
    "authentication_events = {\n",
    "    4768 : 'Kerberos authentication ticket was requested (TGT)',\n",
    "    4769 : 'Kerberos service ticket was requested (TGS)',\n",
    "    4770 : 'Kerberos service ticket was renewed',\n",
    "    4774 : 'An account was mapped for logon',\n",
    "    4776 : 'Domain controller attempted to validate credentials',\n",
    "    4624 : 'An account successfully logged on, see Logon Types',\n",
    "    4625 : 'An account failed to logon, see Logon Types',\n",
    "    4634 : 'An account was logged off, see Logon Types',\n",
    "    4647 : 'User initiated logoff',\n",
    "    4648 : 'A logon was attempted using explicit credentials',\n",
    "    4672 : 'Special privileges assigned to a new logon',\n",
    "    4800 : 'The workstation was locked',\n",
    "    4801 : 'The workstation was unlocked',\n",
    "    4802 : 'The screensaver was invoked',\n",
    "    4803 : 'The screensaver was dismissed'\n",
    "}\n",
    "\n",
    "liste_authentication_events = list(authentication_events.keys())"
   ]
  },
  {
   "cell_type": "code",
   "execution_count": 24,
   "metadata": {},
   "outputs": [
    {
     "name": "stdout",
     "output_type": "stream",
     "text": [
      "1000 lignes traitées\n",
      "1000 evènements, dont 570 pour authentification (57.00%)\n"
     ]
    }
   ],
   "source": [
    "# combien d'EventIDs correspondant à un évènement d'authentification ?\n",
    "\n",
    "total = 0\n",
    "auth = 0\n",
    "\n",
    "N_SAMPLES = 1000\n",
    "\n",
    "with open(filepath, 'r') as f:\n",
    "    for i in range(N_SAMPLES):\n",
    "        line = f.readline()\n",
    "        obj_json = json.loads(line)\n",
    "        if obj_json.get('EventID') in liste_authentication_events:\n",
    "            auth += 1\n",
    "        total += 1\n",
    "        print(f'{total} lignes traitées', end='\\r', flush=True)\n",
    "\n",
    "print()\n",
    "print(f'{total} evènements, dont {auth} pour authentification ({auth/total*100:.2f}%)')"
   ]
  },
  {
   "cell_type": "code",
   "execution_count": 27,
   "metadata": {},
   "outputs": [
    {
     "name": "stdout",
     "output_type": "stream",
     "text": [
      "\n",
      "Extrait fichier de 10 évènements d'auhentification\n",
      "10 évènements extraits\n",
      "Extrait fichier de 100 évènements d'auhentification\n",
      "100 évènements extraits\n",
      "Extrait fichier de 1000 évènements d'auhentification\n",
      "1000 évènements extraits\n",
      "Extrait fichier de 10000 évènements d'auhentification\n",
      "10000 évènements extraits\n",
      "Extrait fichier de 100000 évènements d'auhentification\n",
      "100000 évènements extraits\r"
     ]
    }
   ],
   "source": [
    "# Extrait les évènements d'authentification,\n",
    "# et écrit des fichiers avec des tailles différentes (N samples d'authentification)\n",
    "\n",
    "N_AUTHENTIFICATION_SAMPLES = [10, 100, 1000, 10000, 100000]\n",
    "\n",
    "#-- fichier json complet ---\n",
    "dirpath = '/home/benjamin/Folders_Python/Cyber/data/LALN_processed/'\n",
    "filename = 'wls_day-01.json'\n",
    "filepath = dirpath + filename\n",
    "\n",
    "#-- boucle extraction --\n",
    "for n_authentication_samples in N_AUTHENTIFICATION_SAMPLES:\n",
    "    subset_filename = 'wls_day-01_subset_' + f'{n_authentication_samples}' + '.json'  # fichier dans lequel on va écrire les lignes avec EventID d'authentification\n",
    "    subset_filepath = dirpath + subset_filename\n",
    "    ctr = 0  # compteur d'évènements d'authentification\n",
    "    print(\"\\n\" + f\"Extrait fichier de {n_authentication_samples} évènements d'auhentification\")\n",
    "    with open(filepath, 'r') as f:\n",
    "        while ctr < n_authentication_samples:\n",
    "                line = f.readline()\n",
    "                obj_json = json.loads(line)\n",
    "                if obj_json.get('EventID') in liste_authentication_events:\n",
    "                    ctr += 1\n",
    "                    print(f'{ctr} évènements extraits', end='\\r', flush=True)\n",
    "                    with open(subset_filepath, 'a') as g:\n",
    "                        g.write(line)"
   ]
  },
  {
   "cell_type": "code",
   "execution_count": null,
   "metadata": {},
   "outputs": [],
   "source": []
  },
  {
   "cell_type": "code",
   "execution_count": null,
   "metadata": {},
   "outputs": [],
   "source": []
  },
  {
   "cell_type": "code",
   "execution_count": null,
   "metadata": {},
   "outputs": [],
   "source": []
  },
  {
   "cell_type": "code",
   "execution_count": null,
   "metadata": {},
   "outputs": [],
   "source": []
  }
 ],
 "metadata": {
  "kernelspec": {
   "display_name": "bayes",
   "language": "python",
   "name": "python3"
  },
  "language_info": {
   "codemirror_mode": {
    "name": "ipython",
    "version": 3
   },
   "file_extension": ".py",
   "mimetype": "text/x-python",
   "name": "python",
   "nbconvert_exporter": "python",
   "pygments_lexer": "ipython3",
   "version": "3.11.9"
  }
 },
 "nbformat": 4,
 "nbformat_minor": 2
}
