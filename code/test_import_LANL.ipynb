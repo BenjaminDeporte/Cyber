{
 "cells": [
  {
   "cell_type": "code",
   "execution_count": 1,
   "metadata": {},
   "outputs": [
    {
     "name": "stdout",
     "output_type": "stream",
     "text": [
      "{\"UserName\": \"Comp607982$\", \"EventID\": 4688, \"LogHost\": \"Comp607982\", \"LogonID\": \"0x3e7\", \"DomainName\": \"Domain001\", \"ParentProcessName\": \"services\", \"ParentProcessID\": \"0x2ac\", \"ProcessName\": \"svchost.exe\", \"Time\": 1, \"ProcessID\": \"0x1418\"}\n",
      "\n",
      "{\"UserName\": \"Comp991643$\", \"EventID\": 4688, \"LogHost\": \"Comp991643\", \"LogonID\": \"0x3e7\", \"DomainName\": \"Domain001\", \"ParentProcessName\": \"services\", \"ParentProcessID\": \"0x334\", \"ProcessName\": \"rundll32.exe\", \"Time\": 1, \"ProcessID\": \"0xc0c\"}\n",
      "\n",
      "{\"UserName\": \"Comp736087$\", \"EventID\": 4688, \"LogHost\": \"Comp736087\", \"LogonID\": \"0x3e7\", \"DomainName\": \"Domain001\", \"ParentProcessName\": \"services\", \"ParentProcessID\": \"0x2e8\", \"ProcessName\": \"svchost.exe\", \"Time\": 1, \"ProcessID\": \"0x2074\"}\n",
      "\n",
      "{\"UserName\": \"Comp093128$\", \"EventID\": 4688, \"LogHost\": \"Comp093128\", \"LogonID\": \"0x3e7\", \"DomainName\": \"Domain001\", \"ParentProcessName\": \"services\", \"ParentProcessID\": \"0x2d4\", \"ProcessName\": \"vssvc.exe\", \"Time\": 1, \"ProcessID\": \"0x2200\"}\n",
      "\n",
      "{\"UserName\": \"Comp006850$\", \"EventID\": 4688, \"LogHost\": \"Comp006850\", \"LogonID\": \"0x3e7\", \"DomainName\": \"Domain001\", \"ParentProcessName\": \"services\", \"ParentProcessID\": \"0x278\", \"ProcessName\": \"svchost.exe\", \"Time\": 1, \"ProcessID\": \"0x498\"}\n",
      "\n",
      "{\"UserName\": \"system\", \"EventID\": 4624, \"LogHost\": \"Comp828729\", \"LogonID\": \"0x3e7\", \"DomainName\": \"nt authority\", \"LogonTypeDescription\": \"Service\", \"ProcessName\": \"services.exe\", \"AuthenticationPackage\": \"Negotiate\", \"Time\": 1, \"LogonType\": 5, \"ProcessID\": \"0x29c\"}\n",
      "\n",
      "{\"UserName\": \"system\", \"EventID\": 4672, \"LogHost\": \"Comp828729\", \"LogonID\": \"0x3e7\", \"DomainName\": \"nt authority\", \"Time\": 1}\n",
      "\n",
      "{\"UserName\": \"system\", \"EventID\": 4672, \"LogHost\": \"Comp423597\", \"LogonID\": \"0x3e7\", \"DomainName\": \"nt authority\", \"Time\": 1}\n",
      "\n",
      "{\"UserName\": \"Comp466209$\", \"EventID\": 4688, \"LogHost\": \"Comp466209\", \"LogonID\": \"0x3e7\", \"DomainName\": \"Domain001\", \"ParentProcessName\": \"services\", \"ParentProcessID\": \"0x354\", \"ProcessName\": \"vssvc.exe\", \"Time\": 1, \"ProcessID\": \"0x2d20\"}\n",
      "\n",
      "{\"UserName\": \"Comp688526$\", \"EventID\": 4688, \"LogHost\": \"Comp688526\", \"LogonID\": \"0x3e7\", \"DomainName\": \"Domain001\", \"ParentProcessName\": \"services\", \"ParentProcessID\": \"0x2b8\", \"ProcessName\": \"svchost.exe\", \"Time\": 1, \"ProcessID\": \"0x1ac0\"}\n",
      "\n"
     ]
    }
   ],
   "source": [
    "# lit le fichier de 12+ Gb ligne par ligne\n",
    "\n",
    "with open('/home/benjamin/Folders_Python/Cyber/data/LALN/wls_day-01', 'r') as f:\n",
    "    for i in range(10):\n",
    "        line = f.readline()\n",
    "        print(line)"
   ]
  },
  {
   "cell_type": "code",
   "execution_count": null,
   "metadata": {},
   "outputs": [],
   "source": []
  }
 ],
 "metadata": {
  "kernelspec": {
   "display_name": "bayes",
   "language": "python",
   "name": "python3"
  },
  "language_info": {
   "codemirror_mode": {
    "name": "ipython",
    "version": 3
   },
   "file_extension": ".py",
   "mimetype": "text/x-python",
   "name": "python",
   "nbconvert_exporter": "python",
   "pygments_lexer": "ipython3",
   "version": "3.11.9"
  }
 },
 "nbformat": 4,
 "nbformat_minor": 2
}
