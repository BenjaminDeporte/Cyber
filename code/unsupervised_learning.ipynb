{
 "cells": [
  {
   "cell_type": "markdown",
   "metadata": {},
   "source": [
    "# Unsupervised learning"
   ]
  },
  {
   "cell_type": "markdown",
   "metadata": {},
   "source": [
    "The goal of the notebook is to research some models x features sets out of *.pcaps"
   ]
  },
  {
   "cell_type": "code",
   "execution_count": 1,
   "metadata": {},
   "outputs": [],
   "source": [
    "# imports\n",
    "\n",
    "import numpy as np\n",
    "import pandas as pg\n",
    "import matplotlib.pyplot as plt\n",
    "import logging\n",
    "import collections\n",
    "import seaborn as sns\n",
    "\n",
    "import pyshark\n",
    "import networkx as nx\n",
    "\n",
    "# PATH change to access library cyberlib\n",
    "import sys\n",
    "sys.path.append('/home/benjamin/Folders_Python/Cyber/libs')\n",
    "import cyberlib as cbl"
   ]
  },
  {
   "cell_type": "code",
   "execution_count": 2,
   "metadata": {},
   "outputs": [],
   "source": [
    "# logging set-up\n",
    "\n",
    "lg = cbl.GetLogger('/home/benjamin/Folders_Python/Cyber/logs/unsupervised_learning.log')\n",
    "logger = lg.get_custom_logger()\n",
    "\n",
    "# start your engine\n",
    "logger.info(\"-------- new run --------\")"
   ]
  },
  {
   "cell_type": "markdown",
   "metadata": {},
   "source": [
    "Get the *.pcap to play with"
   ]
  },
  {
   "cell_type": "code",
   "execution_count": 3,
   "metadata": {},
   "outputs": [],
   "source": [
    "PCAPFILE = '/home/benjamin/Folders_Python/Cyber/data/input_pcaps/test.pcap'"
   ]
  },
  {
   "cell_type": "code",
   "execution_count": 4,
   "metadata": {},
   "outputs": [],
   "source": [
    "capture = pyshark.FileCapture(\n",
    "    input_file=PCAPFILE,\n",
    "    use_ek=False\n",
    ")\n",
    "\n",
    "logger.info(f'-- created a capture object in PyShark with pcap file = {PCAPFILE} --')"
   ]
  },
  {
   "cell_type": "code",
   "execution_count": 6,
   "metadata": {},
   "outputs": [],
   "source": [
    "p = cbl.PyPacket(capture[6])"
   ]
  },
  {
   "cell_type": "code",
   "execution_count": 8,
   "metadata": {},
   "outputs": [
    {
     "data": {
      "text/plain": [
       "{'ETH': {'dst': 'f8:1e:df:e5:84:3a',\n",
       "  'src': '00:1f:f3:3c:e1:13',\n",
       "  'type': '0x00000800'},\n",
       " 'IP': {'version': '4',\n",
       "  'hdr_len': '20',\n",
       "  'len': '52',\n",
       "  'id': '0x0000ab51',\n",
       "  'flags': '0x00000000',\n",
       "  'ttl': '54',\n",
       "  'proto': '6',\n",
       "  'src': '74.125.19.17',\n",
       "  'dst': '172.16.11.12'},\n",
       " 'TCP': {'srcport': '443',\n",
       "  'dstport': '64565',\n",
       "  'stream': '0',\n",
       "  'len': '0',\n",
       "  'seq': '2',\n",
       "  'ack': '29',\n",
       "  'hdr_len': '32',\n",
       "  'flags': '0x00000010',\n",
       "  'time_relative': '0.026242000',\n",
       "  'time_delta': '0.003631000',\n",
       "  'payload': None},\n",
       " 'TIMESTAMP': {'ts': datetime.datetime(2010, 7, 7, 5, 16, 19, 492985)}}"
      ]
     },
     "execution_count": 8,
     "metadata": {},
     "output_type": "execute_result"
    }
   ],
   "source": [
    "p.data"
   ]
  },
  {
   "cell_type": "code",
   "execution_count": null,
   "metadata": {},
   "outputs": [],
   "source": []
  },
  {
   "cell_type": "code",
   "execution_count": null,
   "metadata": {},
   "outputs": [],
   "source": []
  },
  {
   "cell_type": "code",
   "execution_count": null,
   "metadata": {},
   "outputs": [],
   "source": []
  },
  {
   "cell_type": "code",
   "execution_count": null,
   "metadata": {},
   "outputs": [],
   "source": []
  },
  {
   "cell_type": "code",
   "execution_count": null,
   "metadata": {},
   "outputs": [],
   "source": []
  }
 ],
 "metadata": {
  "kernelspec": {
   "display_name": "cyber",
   "language": "python",
   "name": "python3"
  },
  "language_info": {
   "codemirror_mode": {
    "name": "ipython",
    "version": 3
   },
   "file_extension": ".py",
   "mimetype": "text/x-python",
   "name": "python",
   "nbconvert_exporter": "python",
   "pygments_lexer": "ipython3",
   "version": "3.10.9"
  },
  "orig_nbformat": 4
 },
 "nbformat": 4,
 "nbformat_minor": 2
}
