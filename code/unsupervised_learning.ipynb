{
 "cells": [
  {
   "cell_type": "markdown",
   "metadata": {},
   "source": [
    "# Unsupervised learning"
   ]
  },
  {
   "cell_type": "markdown",
   "metadata": {},
   "source": [
    "### The goal of the notebook is to research some models x features sets out of *.pcaps"
   ]
  },
  {
   "cell_type": "code",
   "execution_count": 1,
   "metadata": {},
   "outputs": [],
   "source": [
    "# imports\n",
    "\n",
    "import numpy as np\n",
    "import pandas as pd\n",
    "import matplotlib.pyplot as plt\n",
    "import logging\n",
    "import collections\n",
    "import seaborn as sns\n",
    "import pprint\n",
    "\n",
    "import pyshark\n",
    "import networkx as nx\n",
    "\n",
    "from sklearn.preprocessing import OrdinalEncoder, StandardScaler\n",
    "from sklearn.pipeline import Pipeline\n",
    "from sklearn.decomposition import PCA\n",
    "from sklearn.cluster import KMeans, DBSCAN\n",
    "from sklearn.manifold import TSNE\n",
    "from sklearn.metrics import pairwise_distances, silhouette_score\n",
    "from sklearn.mixture import GaussianMixture, BayesianGaussianMixture\n",
    "\n",
    "from itertools import product\n",
    "\n",
    "# PATH change to access library cyberlib\n",
    "import sys\n",
    "sys.path.append('/home/benjamin/Folders_Python/Cyber/libs')\n",
    "import cyberlib as cbl"
   ]
  },
  {
   "cell_type": "code",
   "execution_count": 2,
   "metadata": {},
   "outputs": [],
   "source": [
    "# logging set-up\n",
    "\n",
    "lg = cbl.GetLogger('/home/benjamin/Folders_Python/Cyber/logs/unsupervised_learning.log')\n",
    "logger = lg.get_custom_logger()\n",
    "\n",
    "# start your engine\n",
    "logger.info(\"-------- new run --------\")"
   ]
  },
  {
   "cell_type": "markdown",
   "metadata": {},
   "source": [
    "### Get the *.pcap to play with"
   ]
  },
  {
   "cell_type": "code",
   "execution_count": 3,
   "metadata": {},
   "outputs": [],
   "source": [
    "PCAPFILE = '/home/benjamin/Folders_Python/Cyber/data/input_pcaps/bigFlows.pcap'"
   ]
  },
  {
   "cell_type": "code",
   "execution_count": 4,
   "metadata": {},
   "outputs": [],
   "source": [
    "capture = pyshark.FileCapture(\n",
    "    input_file=PCAPFILE,\n",
    "    use_ek=False\n",
    ")\n",
    "\n",
    "logger.info(f'-- created a capture object in PyShark with pcap file = {PCAPFILE} --')"
   ]
  },
  {
   "cell_type": "code",
   "execution_count": 5,
   "metadata": {},
   "outputs": [
    {
     "name": "stdout",
     "output_type": "stream",
     "text": [
      "{   'ETH': {   'dst': '00:90:7f:3e:02:d0',\n",
      "               'src': '14:10:9f:d4:90:db',\n",
      "               'type': '0x00000800'},\n",
      "    'IP': {   'dst': '68.64.21.62',\n",
      "              'flags': '0x00000000',\n",
      "              'hdr_len': '20',\n",
      "              'id': '0x0000fd44',\n",
      "              'len': '1154',\n",
      "              'proto': '17',\n",
      "              'src': '172.16.133.57',\n",
      "              'ttl': '64',\n",
      "              'version': '4'},\n",
      "    'TIMESTAMP': {'ts': datetime.datetime(2013, 2, 26, 23, 2, 35, 953172)},\n",
      "    'UDP': {   'dstport': '1853',\n",
      "               'length': '1134',\n",
      "               'payload': 'c5:b8:2b:dd:d0:cc:1a:0f:df:bb:0d:0f:05:70:88:50:11:77:f1:b1:95:e2:ec:3a:88:65:92:aa:26:78:45:11:ac:84:4a:6f:aa:9b:6a:c6:90:ce:5f:58:ea:63:24:53:40:19:30:55:18:eb:ec:25:37:44:42:e8:d9:95:e1:e8:a9:8c:05:18:a4:83:ca:28:74:8b:f5:1d:15:b5:61:16:52:9b:e2:ea:e8:95:d2:37:1e:89:3f:81:2e:d6:d3:8d:23:9d:9f:65:01:1b:05:64:2e:49:72:66:f8:1a:01:49:55:95:c0:a7:07:e8:93:74:1f:cb:b3:1c:11:7e:48:fb:b5:f2:b1:c4:8a:40:31:2b:ef:c7:39:71:7d:7b:0d:a9:c6:58:8b:a6:2c:ac:c4:22:9f:ea:5a:0d:c9:eb:bf:5b:73:29:2e:f4:9e:b0:bc:08:a4:5e:17:d5:5d:b8:95:b0:5a:2e:2f:4c:b0:9d:8c:a6:40:fd:76:cd:c6:cf:6d:9b:e0:78:c7:b5:f7:f2:f2:43:a4:f3:ea:f2:28:74:d5:53:30:c1:cc:01:6b:62:b6:10:83:c3:06:16:64:92:55:29:22:cf:e8:ac:88:82:84:84:78:9d:3f:a7:d3:82:ae:ef:09:f9:d2:b6:d1:d8:ee:0e:5d:fe:1e:71:15:4f:6e:96:b8:27:e6:f3:6a:a4:95:70:f7:2c:80:06:fe:ba:ea:26:46:5c:b2:3e:e0:8c:47:35:94:59:e8:36:1e:d1:54:39:13:80:05:b2:86:45:8e:9a:44:70:af:5b:08:10:a0:0c:99:24:38:d2:18:70:e3:08:9d:09:bf:92:47:40:bb:fd:c5:07:9f:c5:a3:98:62:ec:0d:db:4e:1d:c8:79:ca:bb:7b:16:1b:9c:2f:9d:3e:16:97:be:7c:a1:c4:93:88:aa:9c:2e:3e:35:9c:26:96:3c:c4:7b:0a:26:72:47:c4:8d:36:0c:9b:97:ac:7a:0c:49:69:1b:15:3f:67:86:21:da:69:ed:e1:cb:9a:a8:cf:de:04:86:e1:0d:43:e1:a1:60:19:2a:8f:e6:31:b7:e8:45:bb:a2:6d:d2:17:48:0c:cd:4c:9a:7d:0d:75:2c:a3:5e:ff:72:fd:bd:dc:69:6b:d2:be:24:34:15:f4:f2:38:e3:7a:fa:d8:51:fd:5d:e5:15:6a:74:28:0e:1d:e0:f9:71:78:01:be:f6:fe:51:3c:7d:8f:90:6d:c2:43:68:9b:c0:61:a7:17:a9:c5:83:65:ed:52:0f:41:70:d7:12:3d:5a:1d:73:58:0e:b3:e5:41:dc:ab:00:85:9d:cb:c6:f9:9c:83:1f:83:54:77:26:9e:52:1e:c2:44:56:c9:dd:0b:d7:c5:fc:03:78:9c:5e:c6:f4:79:bb:d8:02:e7:24:ee:0a:2f:40:10:cc:b4:63:b7:e8:ce:bb:f2:65:36:97:b6:b4:e0:62:41:e4:8f:e2:ba:f8:89:a4:38:48:4a:58:51:f9:48:73:13:72:dd:76:87:a0:9a:58:c9:cf:f5:15:ec:29:67:50:65:e4:8c:c9:12:fd:77:d4:54:96:fe:a0:8c:c2:40:ce:57:e6:9c:cb:38:0e:04:a4:50:0f:d1:5a:15:73:df:74:f8:8a:23:99:8b:81:29:ed:10:fb:74:01:b3:47:da:f0:b1:78:73:ec:84:b2:87:5d:17:27:0b:6b:8b:8c:87:e6:47:fa:65:8d:76:15:2e:32:5b:29:88:65:5d:53:43:72:a4:6a:a1:1f:43:04:40:d8:5d:43:d4:f0:a0:5b:b4:50:7a:2a:03:b5:7f:83:13:24:e3:85:f1:b7:1d:c3:89:eb:51:b1:4f:67:02:aa:0d:f4:d0:f2:20:82:fd:9e:c1:38:44:44:19:f8:80:fe:45:dc:70:06:b9:28:f9:b5:42:8c:94:00:e1:d2:67:c8:3f:c9:a6:13:11:23:02:19:18:6d:e4:c8:c7:4d:89:1a:3a:80:81:c3:0d:1f:33:d1:02:6b:cc:6c:db:77:53:1f:45:bc:e4:c7:7b:39:44:08:43:f1:9d:71:96:73:31:34:08:c9:f9:59:86:65:e0:14:fc:71:7c:1c:9f:cf:e4:19:06:a4:62:58:0c:43:31:77:aa:6c:2a:a2:13:77:64:79:61:2c:72:16:af:6a:88:06:d6:f7:d5:41:72:c6:95:bf:c7:6f:74:fe:ec:03:69:08:27:69:63:1b:5d:f0:a1:47:29:08:76:30:21:2f:17:53:e4:59:6a:aa:4d:e3:16:a3:cc:22:03:9e:92:40:dc:67:7d:f8:c6:86:fa:bb:6e:84:2f:5c:bd:09:74:52:7e:ca:f8:84:ef:5e:7b:e9:af:41:62:8a:3a:9d:9b:d8:d6:97:e1:9e:dd:db:77:03:8b:e4:11:da:2c:4d:36:ec:b6:5a:d6:2d:f5:b1:4f:b5:89:06:a1:73:34:22:b0:84:bd:e4:03:b6:1e:9c:3a:37:aa:26:1a:7d:55:44:a2:7a:c0:38:8a:14:d3:66:3f:57:a0:64:58:30:1a:9e:31:60:f0:94:aa:d3:3e:dc:ac:22:14:76:15:40:ed:7a:33:bd:de:1a:72:05:5c:61:bc:54:ad:a1:39:35:9b:e8:b0:aa:4f:ae:95:b7:f9:f7:d1:a7:62:31:a4:ca:50:b5:04:5f:9f:0c:97:92:25:99:12:9b:81:35:b3:77:32:1d:d4:6c:38:70:03:4c:56:1f:06:b0:a0:a2:71:df:b2:bc:7c:dc:d2:6d:e6:7a:d5:10:65:2e:a9:7e:e8:fd:f1:9e:16:09:64:e6:c9:f1:b5:6d:63:89:d1:bf:83:03:b6:84:61:ea:9d:a6:c5:b2:4b:01:7c:2d:ad:21:dc:06:f8:b5:7c:2c:36:cf:b2:e8:8f:95:c8:59:1e:8d:0e:65:af:e7:30:d6:b7:b7:ed:64:bc:fb:07:81:84:a4:69:d5:2f:78:d5:c2',\n",
      "               'srcport': '53807',\n",
      "               'stream': '0',\n",
      "               'time_delta': '0.000000000',\n",
      "               'time_relative': '0.000000000'}}\n",
      "-------------\n",
      "{   'ETH': {   'dst': '00:90:7f:3e:02:d0',\n",
      "               'src': '14:10:9f:d4:90:db',\n",
      "               'type': '0x00000800'},\n",
      "    'IP': {   'dst': '68.64.21.62',\n",
      "              'flags': '0x00000000',\n",
      "              'hdr_len': '20',\n",
      "              'id': '0x0000c51a',\n",
      "              'len': '1154',\n",
      "              'proto': '17',\n",
      "              'src': '172.16.133.57',\n",
      "              'ttl': '64',\n",
      "              'version': '4'},\n",
      "    'TIMESTAMP': {'ts': datetime.datetime(2013, 2, 26, 23, 2, 35, 953222)},\n",
      "    'UDP': {   'dstport': '1853',\n",
      "               'length': '1134',\n",
      "               'payload': 'd4:b8:2b:de:fb:40:b5:cb:16:33:a8:cf:24:81:35:81:0d:70:90:f9:d2:2e:4c:67:e8:b8:0d:38:22:ef:fd:b9:a5:d1:d5:81:72:25:a3:89:4b:61:d2:8e:29:5d:90:15:12:b0:2a:8b:67:d1:fd:bd:88:e6:3c:6c:d8:bf:dc:12:88:27:cc:74:39:42:73:ec:bf:db:b0:a4:9d:fa:1d:3f:df:e3:92:61:65:72:e1:ab:17:f1:99:a0:98:4f:5f:ad:d0:30:20:b2:de:3d:1a:cd:3e:8e:72:aa:a3:49:77:a0:3a:68:e8:4c:68:8e:d9:4b:95:72:c6:04:ca:3f:57:90:18:06:16:9b:c9:74:26:26:e5:d6:3c:ea:a1:8f:71:f8:7e:a8:de:bb:88:fe:14:6c:de:96:c7:de:51:37:29:a1:6b:26:82:a0:4f:78:24:2a:1a:d2:a4:f1:5d:d1:d8:fc:b7:e3:1d:6e:8d:6d:d9:f3:35:ae:c5:ee:d7:92:73:48:8b:86:91:ca:a1:90:0a:d9:87:93:02:db:70:b8:00:1c:7f:e9:33:cf:5b:8e:69:02:fd:1b:fb:d4:4b:4c:40:1f:1c:30:48:11:29:98:bd:66:2c:e9:2c:99:86:af:9b:88:74:f8:f1:55:46:fe:a1:9b:d1:5d:6c:a9:27:5e:a7:61:0e:be:2d:11:b1:91:3a:2a:ad:00:22:6e:44:72:38:9d:1c:96:94:b6:61:20:c3:9c:0f:c1:54:e3:1f:c9:12:3a:0f:0a:ca:27:0a:a5:0b:90:52:99:da:2e:34:49:64:09:a8:84:dd:23:01:f4:96:29:99:01:e3:5d:ee:65:92:fe:4c:3c:97:6b:99:14:38:54:c5:e8:4d:16:fe:97:e5:76:7e:22:9d:26:36:a6:18:3d:18:3c:21:66:8f:10:24:6a:7f:fc:93:70:2d:10:6f:a3:03:2b:df:21:de:d5:3b:5b:e3:2c:d1:e8:b5:6b:7b:bf:29:cf:18:41:16:ee:df:37:c8:45:a4:8c:11:98:dc:f5:2a:b3:6d:4c:b8:24:80:63:76:4d:79:d2:54:1a:25:21:e8:dc:d1:d7:2a:3a:48:4d:c4:2b:c4:73:2b:bf:58:49:f2:c1:74:69:5b:0d:8e:fa:f9:82:12:f0:e1:20:28:ba:f2:fa:0f:29:44:be:fb:01:66:82:2e:e4:2f:81:46:65:8d:c1:76:be:22:7e:60:c6:80:25:35:3b:6b:9c:b0:57:c2:37:c3:06:48:c4:ae:b8:c4:7c:0d:0b:c5:5e:6b:db:f5:5f:09:b7:a0:1b:63:19:86:b9:50:74:df:6b:50:7a:73:e3:88:7f:a1:16:65:09:75:e6:22:e2:56:1c:be:2b:20:d3:ad:e9:3a:62:4a:5a:ea:66:fa:94:09:a8:b6:bb:2d:8a:6b:61:67:a5:7f:42:3a:0b:55:73:47:86:46:c0:e1:ef:5e:e6:eb:24:31:50:a1:ce:c8:b4:ad:fe:f2:fd:2b:6f:09:18:1e:39:40:ca:2f:2b:44:be:e4:d8:d0:3f:64:41:ac:d7:60:4b:b2:15:e6:8e:fe:12:e6:28:5b:11:d9:26:b8:4c:ea:0f:a8:f0:08:5b:8f:fc:ae:d3:ef:72:d9:88:d2:87:15:2d:6b:75:06:96:81:4f:64:3b:ab:e3:c5:96:2c:a5:ae:62:61:4c:a9:96:8a:72:5e:a0:d1:41:f4:d7:56:e6:9a:5a:12:80:21:05:e1:b5:21:f7:3e:f8:53:6a:1d:c1:68:a5:f4:03:4b:6b:4a:b2:3c:d4:0a:f9:ba:6a:31:f8:3e:95:ef:dc:a8:bf:88:c9:6a:ac:2f:02:52:99:a5:05:1e:0b:68:26:ae:fc:56:13:6b:bd:64:f5:05:17:a2:3b:02:a7:49:88:f0:50:81:3d:98:a6:85:d6:31:de:ee:c0:5d:28:82:b4:2d:85:1d:52:48:ad:83:c6:30:54:32:9f:64:64:7d:42:d2:a2:1a:1a:bb:d5:c7:63:1a:c5:58:ed:b7:2a:fc:e1:78:19:15:86:0d:c4:a9:a0:9d:a8:35:f5:65:48:38:51:60:22:b9:47:eb:bb:48:e2:e4:da:c9:09:ec:67:89:1a:cd:31:9e:1b:1b:17:0b:f0:1f:64:f6:a5:d2:07:1f:c2:cf:e6:de:62:2a:af:8f:df:a6:f0:ed:3d:6b:f0:be:6b:1e:6a:5d:d3:91:d3:01:28:a4:70:33:1c:e9:00:d8:02:0e:40:06:d4:8c:b1:d7:ed:8a:cf:46:3b:95:a1:42:c5:d9:dc:eb:72:b4:eb:53:e7:8e:1d:db:10:14:5c:6f:0a:02:c0:8b:3b:be:66:e5:2b:2c:b1:a7:78:50:34:ec:7f:a1:5a:33:19:9a:f3:e7:8c:36:5c:7f:b6:12:8d:97:95:17:ad:8e:fc:3c:45:cd:9b:ac:94:0a:00:e6:2a:7a:67:e7:6a:7a:41:c8:1d:ed:28:5d:ca:fb:60:f4:16:36:b7:bb:9d:31:ce:09:64:1a:9d:2f:8f:08:47:84:00:07:2e:f9:54:39:47:12:79:54:cb:57:46:5e:4e:2d:3d:5a:5d:21:85:6a:89:11:c7:92:35:6f:ba:b8:58:bf:f6:b6:54:f5:74:d0:65:65:f0:24:cd:96:e2:c0:f0:cc:40:75:2b:ce:f3:f4:db:6a:ec:6d:c7:3a:c6:43:71:8b:a1:50:e7:f6:08:a9:ee:26:34:fb:ca:37:66:9b:b1:2e:4a:41:be:1c:7c:b9:2b:2e:6c:5f:eb:c4:6e:ac:c2:c0:f7:a2:ca:d8:bb:9b:6f:d2:ae:fa:e4:57:08:32:23:3b:95:09:df:3e:9c:c3:92:1a:8f:36:fd:3a:55:34:ce:bd:c3:3c:ad:cf:63:56:35:ae:c2:cc:b1:34:07:b7:a2:96:73:4b:fa:3f:c4:80:15:03:99:38:60:e1:f9:12:88:7f:ea:d6:05:c7:04:dc:14:94:47',\n",
      "               'srcport': '53807',\n",
      "               'stream': '0',\n",
      "               'time_delta': '0.000050000',\n",
      "               'time_relative': '0.000050000'}}\n",
      "-------------\n",
      "{   'ETH': {   'dst': '00:90:7f:3e:02:d0',\n",
      "               'src': '14:10:9f:d4:90:db',\n",
      "               'type': '0x00000800'},\n",
      "    'IP': {   'dst': '68.64.21.62',\n",
      "              'flags': '0x00000000',\n",
      "              'hdr_len': '20',\n",
      "              'id': '0x0000691d',\n",
      "              'len': '80',\n",
      "              'proto': '17',\n",
      "              'src': '172.16.133.57',\n",
      "              'ttl': '64',\n",
      "              'version': '4'},\n",
      "    'TIMESTAMP': {'ts': datetime.datetime(2013, 2, 26, 23, 2, 35, 953222)},\n",
      "    'UDP': {   'dstport': '1853',\n",
      "               'length': '60',\n",
      "               'payload': 'db:b8:2b:df:b2:93:f2:d3:6f:e4:c8:a8:27:22:b0:9f:60:eb:96:0f:ee:a9:74:85:26:f3:95:f8:f9:2e:67:d0:18:8e:8c:5f:6f:1a:f0:c9:88:05:c1:05:d8:aa:a7:b7:d8:6e:5d:d9',\n",
      "               'srcport': '53807',\n",
      "               'stream': '0',\n",
      "               'time_delta': '0.000000000',\n",
      "               'time_relative': '0.000050000'}}\n",
      "-------------\n",
      "{   'ETH': {   'dst': '00:21:70:63:3b:ad',\n",
      "               'src': '00:90:7f:3e:02:d0',\n",
      "               'type': '0x00000800'},\n",
      "    'IP': {   'dst': '172.16.133.82',\n",
      "              'flags': '0x00000040',\n",
      "              'hdr_len': '20',\n",
      "              'id': '0x000034ae',\n",
      "              'len': '40',\n",
      "              'proto': '6',\n",
      "              'src': '96.43.146.176',\n",
      "              'ttl': '242',\n",
      "              'version': '4'},\n",
      "    'TCP': {   'ack': '1',\n",
      "               'dstport': '61228',\n",
      "               'flags': '0x00000010',\n",
      "               'hdr_len': '20',\n",
      "               'len': '0',\n",
      "               'payload': None,\n",
      "               'seq': '1',\n",
      "               'srcport': '443',\n",
      "               'stream': '0',\n",
      "               'time_delta': '0.000000000',\n",
      "               'time_relative': '0.000000000'},\n",
      "    'TIMESTAMP': {'ts': datetime.datetime(2013, 2, 26, 23, 2, 35, 953494)}}\n",
      "-------------\n",
      "{   'ETH': {   'dst': '00:90:7f:3e:02:d0',\n",
      "               'src': '00:21:70:67:65:81',\n",
      "               'type': '0x00000800'},\n",
      "    'IP': {   'dst': '68.64.21.42',\n",
      "              'flags': '0x00000000',\n",
      "              'hdr_len': '20',\n",
      "              'id': '0x00004c04',\n",
      "              'len': '153',\n",
      "              'proto': '17',\n",
      "              'src': '172.16.133.56',\n",
      "              'ttl': '128',\n",
      "              'version': '4'},\n",
      "    'TIMESTAMP': {'ts': datetime.datetime(2013, 2, 26, 23, 2, 35, 954332)},\n",
      "    'UDP': {   'dstport': '1853',\n",
      "               'length': '133',\n",
      "               'payload': '41:41:0f:c8:27:3d:01:64:e4:0f:28:00:a1:00:0f:e5:00:00:00:00:1b:0d:23:0d:22:0f:e4:00:28:01:64:d0:0d:22:e5:d0:0a:0e:14:d0:03:15:1c:0a:01:04:00:64:00:64:27:10:03:e8:07:00:0a:01:04:00:64:00:64:27:10:03:e8:00:00:00:00:00:00:15:e1:00:00:00:00:00:00:00:04:00:00:00:00:00:00:15:e2:00:00:00:00:00:00:00:05:00:00:00:00:00:00:15:e2:00:00:00:00:00:00:00:06:00:00:00:00:00:00:15:e2:00:00',\n",
      "               'srcport': '49514',\n",
      "               'stream': '1',\n",
      "               'time_delta': '0.000000000',\n",
      "               'time_relative': '0.000000000'}}\n",
      "-------------\n"
     ]
    }
   ],
   "source": [
    "pp = pprint.PrettyPrinter(indent=4)\n",
    "\n",
    "for id in range(5):\n",
    "    p = cbl.PyPacket(capture[id])\n",
    "    pp.pprint(p.data)\n",
    "    print('-------------')"
   ]
  },
  {
   "cell_type": "markdown",
   "metadata": {},
   "source": [
    "### Choice of features"
   ]
  },
  {
   "cell_type": "markdown",
   "metadata": {},
   "source": [
    "We will look at Ethernet packets part of a TCP conversation\n",
    "\n",
    "Features at TCP level : source port, destination port, sequence number, acknowledgement number, flags, header length, total length, time delta since last packet, time delta since first packet\n",
    "\n",
    "Features at IP level : source IP, destination IP, flags, header length, length, identification, ttl, version\n",
    "\n",
    "Features at ETH level : None"
   ]
  },
  {
   "cell_type": "code",
   "execution_count": 6,
   "metadata": {},
   "outputs": [
    {
     "name": "stderr",
     "output_type": "stream",
     "text": [
      "21994it [07:35, 48.24it/s]                   \n"
     ]
    },
    {
     "ename": "KeyboardInterrupt",
     "evalue": "",
     "output_type": "error",
     "traceback": [
      "\u001b[0;31m---------------------------------------------------------------------------\u001b[0m",
      "\u001b[0;31mKeyboardInterrupt\u001b[0m                         Traceback (most recent call last)",
      "Cell \u001b[0;32mIn[6], line 1\u001b[0m\n\u001b[0;32m----> 1\u001b[0m df_raw \u001b[39m=\u001b[39m cbl\u001b[39m.\u001b[39;49mGetTCPDataframeFromFileCapture(filecapture\u001b[39m=\u001b[39;49mcapture)\u001b[39m.\u001b[39;49mdataframe\n",
      "File \u001b[0;32m~/Folders_Python/Cyber/libs/cyberlib.py:153\u001b[0m, in \u001b[0;36mGetTCPDataframeFromFileCapture.dataframe\u001b[0;34m(self)\u001b[0m\n\u001b[1;32m    151\u001b[0m         \u001b[39mif\u001b[39;00m pkt[\u001b[39m'\u001b[39m\u001b[39mIP\u001b[39m\u001b[39m'\u001b[39m]\u001b[39m.\u001b[39mproto \u001b[39m==\u001b[39m \u001b[39m'\u001b[39m\u001b[39m6\u001b[39m\u001b[39m'\u001b[39m:  \u001b[39m# test whether the pcaket is part of a TCP conversation\u001b[39;00m\n\u001b[1;32m    152\u001b[0m             add_df \u001b[39m=\u001b[39m PyPacket(pkt)\u001b[39m.\u001b[39mdataframe\n\u001b[0;32m--> 153\u001b[0m             df \u001b[39m=\u001b[39m pd\u001b[39m.\u001b[39;49mconcat([df, add_df])\n\u001b[1;32m    155\u001b[0m \u001b[39m# transforms variables into right type\u001b[39;00m\n\u001b[1;32m    156\u001b[0m columns_to_leave_asis \u001b[39m=\u001b[39m [\u001b[39m'\u001b[39m\u001b[39mETH_dst\u001b[39m\u001b[39m'\u001b[39m, \u001b[39m'\u001b[39m\u001b[39mETH_src\u001b[39m\u001b[39m'\u001b[39m,  \u001b[39m'\u001b[39m\u001b[39mIP_id\u001b[39m\u001b[39m'\u001b[39m, \u001b[39m'\u001b[39m\u001b[39mIP_flags\u001b[39m\u001b[39m'\u001b[39m, \u001b[39m'\u001b[39m\u001b[39mIP_src\u001b[39m\u001b[39m'\u001b[39m, \u001b[39m'\u001b[39m\u001b[39mIP_dst\u001b[39m\u001b[39m'\u001b[39m] \u001b[39m# we leave those as raw\u001b[39;00m\n",
      "File \u001b[0;32m~/anaconda3/envs/cyber/lib/python3.10/site-packages/pandas/util/_decorators.py:331\u001b[0m, in \u001b[0;36mdeprecate_nonkeyword_arguments.<locals>.decorate.<locals>.wrapper\u001b[0;34m(*args, **kwargs)\u001b[0m\n\u001b[1;32m    325\u001b[0m \u001b[39mif\u001b[39;00m \u001b[39mlen\u001b[39m(args) \u001b[39m>\u001b[39m num_allow_args:\n\u001b[1;32m    326\u001b[0m     warnings\u001b[39m.\u001b[39mwarn(\n\u001b[1;32m    327\u001b[0m         msg\u001b[39m.\u001b[39mformat(arguments\u001b[39m=\u001b[39m_format_argument_list(allow_args)),\n\u001b[1;32m    328\u001b[0m         \u001b[39mFutureWarning\u001b[39;00m,\n\u001b[1;32m    329\u001b[0m         stacklevel\u001b[39m=\u001b[39mfind_stack_level(),\n\u001b[1;32m    330\u001b[0m     )\n\u001b[0;32m--> 331\u001b[0m \u001b[39mreturn\u001b[39;00m func(\u001b[39m*\u001b[39;49margs, \u001b[39m*\u001b[39;49m\u001b[39m*\u001b[39;49mkwargs)\n",
      "File \u001b[0;32m~/anaconda3/envs/cyber/lib/python3.10/site-packages/pandas/core/reshape/concat.py:381\u001b[0m, in \u001b[0;36mconcat\u001b[0;34m(objs, axis, join, ignore_index, keys, levels, names, verify_integrity, sort, copy)\u001b[0m\n\u001b[1;32m    159\u001b[0m \u001b[39m\u001b[39m\u001b[39m\"\"\"\u001b[39;00m\n\u001b[1;32m    160\u001b[0m \u001b[39mConcatenate pandas objects along a particular axis.\u001b[39;00m\n\u001b[1;32m    161\u001b[0m \n\u001b[0;32m   (...)\u001b[0m\n\u001b[1;32m    366\u001b[0m \u001b[39m1   3   4\u001b[39;00m\n\u001b[1;32m    367\u001b[0m \u001b[39m\"\"\"\u001b[39;00m\n\u001b[1;32m    368\u001b[0m op \u001b[39m=\u001b[39m _Concatenator(\n\u001b[1;32m    369\u001b[0m     objs,\n\u001b[1;32m    370\u001b[0m     axis\u001b[39m=\u001b[39maxis,\n\u001b[0;32m   (...)\u001b[0m\n\u001b[1;32m    378\u001b[0m     sort\u001b[39m=\u001b[39msort,\n\u001b[1;32m    379\u001b[0m )\n\u001b[0;32m--> 381\u001b[0m \u001b[39mreturn\u001b[39;00m op\u001b[39m.\u001b[39;49mget_result()\n",
      "File \u001b[0;32m~/anaconda3/envs/cyber/lib/python3.10/site-packages/pandas/core/reshape/concat.py:616\u001b[0m, in \u001b[0;36m_Concatenator.get_result\u001b[0;34m(self)\u001b[0m\n\u001b[1;32m    612\u001b[0m             indexers[ax] \u001b[39m=\u001b[39m obj_labels\u001b[39m.\u001b[39mget_indexer(new_labels)\n\u001b[1;32m    614\u001b[0m     mgrs_indexers\u001b[39m.\u001b[39mappend((obj\u001b[39m.\u001b[39m_mgr, indexers))\n\u001b[0;32m--> 616\u001b[0m new_data \u001b[39m=\u001b[39m concatenate_managers(\n\u001b[1;32m    617\u001b[0m     mgrs_indexers, \u001b[39mself\u001b[39;49m\u001b[39m.\u001b[39;49mnew_axes, concat_axis\u001b[39m=\u001b[39;49m\u001b[39mself\u001b[39;49m\u001b[39m.\u001b[39;49mbm_axis, copy\u001b[39m=\u001b[39;49m\u001b[39mself\u001b[39;49m\u001b[39m.\u001b[39;49mcopy\n\u001b[1;32m    618\u001b[0m )\n\u001b[1;32m    619\u001b[0m \u001b[39mif\u001b[39;00m \u001b[39mnot\u001b[39;00m \u001b[39mself\u001b[39m\u001b[39m.\u001b[39mcopy:\n\u001b[1;32m    620\u001b[0m     new_data\u001b[39m.\u001b[39m_consolidate_inplace()\n",
      "File \u001b[0;32m~/anaconda3/envs/cyber/lib/python3.10/site-packages/pandas/core/internals/concat.py:223\u001b[0m, in \u001b[0;36mconcatenate_managers\u001b[0;34m(mgrs_indexers, axes, concat_axis, copy)\u001b[0m\n\u001b[1;32m    217\u001b[0m vals \u001b[39m=\u001b[39m [ju\u001b[39m.\u001b[39mblock\u001b[39m.\u001b[39mvalues \u001b[39mfor\u001b[39;00m ju \u001b[39min\u001b[39;00m join_units]\n\u001b[1;32m    219\u001b[0m \u001b[39mif\u001b[39;00m \u001b[39mnot\u001b[39;00m blk\u001b[39m.\u001b[39mis_extension:\n\u001b[1;32m    220\u001b[0m     \u001b[39m# _is_uniform_join_units ensures a single dtype, so\u001b[39;00m\n\u001b[1;32m    221\u001b[0m     \u001b[39m#  we can use np.concatenate, which is more performant\u001b[39;00m\n\u001b[1;32m    222\u001b[0m     \u001b[39m#  than concat_compat\u001b[39;00m\n\u001b[0;32m--> 223\u001b[0m     values \u001b[39m=\u001b[39m np\u001b[39m.\u001b[39;49mconcatenate(vals, axis\u001b[39m=\u001b[39;49m\u001b[39m1\u001b[39;49m)\n\u001b[1;32m    224\u001b[0m \u001b[39melse\u001b[39;00m:\n\u001b[1;32m    225\u001b[0m     \u001b[39m# TODO(EA2D): special-casing not needed with 2D EAs\u001b[39;00m\n\u001b[1;32m    226\u001b[0m     values \u001b[39m=\u001b[39m concat_compat(vals, axis\u001b[39m=\u001b[39m\u001b[39m1\u001b[39m)\n",
      "File \u001b[0;32m<__array_function__ internals>:180\u001b[0m, in \u001b[0;36mconcatenate\u001b[0;34m(*args, **kwargs)\u001b[0m\n",
      "\u001b[0;31mKeyboardInterrupt\u001b[0m: "
     ]
    }
   ],
   "source": [
    "df_raw = cbl.GetTCPDataframeFromFileCapture(filecapture=capture).dataframe"
   ]
  },
  {
   "cell_type": "code",
   "execution_count": null,
   "metadata": {},
   "outputs": [],
   "source": [
    "df_raw"
   ]
  },
  {
   "cell_type": "markdown",
   "metadata": {},
   "source": [
    "### Preprocessing : ordinal encoding, normalization"
   ]
  },
  {
   "cell_type": "code",
   "execution_count": null,
   "metadata": {},
   "outputs": [],
   "source": [
    "# ordinal encoding with Pandas\n",
    "\n",
    "columns_to_encode_as_ordinal = ['ETH_dst', 'ETH_src', 'IP_id', 'IP_flags', 'IP_src', 'IP_dst']\n",
    "\n",
    "df_ord = pd.DataFrame()\n",
    "for c in columns_to_encode_as_ordinal:\n",
    "    codes, _ = pd.factorize(df_raw[c])\n",
    "    df_sup = pd.DataFrame(data={ c : list(codes) })\n",
    "    df_ord = pd.concat([df_ord, df_sup], axis=1)\n",
    "    \n",
    "df = df_raw.drop(columns=columns_to_encode_as_ordinal)\n",
    "df.reset_index(drop=True)\n",
    "\n",
    "df = pd.concat([df, df_ord], axis=1)\n",
    "\n",
    "columns_to_drop = ['TIMESTAMP_ts']\n",
    "df.drop(columns=columns_to_drop, inplace=True)\n",
    "\n",
    "df"
   ]
  },
  {
   "cell_type": "code",
   "execution_count": null,
   "metadata": {},
   "outputs": [],
   "source": [
    "# the rest of the preprocessing with a scikit learn pipeline\n",
    "\n",
    "pipe = Pipeline(\n",
    "    [ ('normalize', StandardScaler() )]\n",
    ")"
   ]
  },
  {
   "cell_type": "code",
   "execution_count": null,
   "metadata": {},
   "outputs": [],
   "source": [
    "X = df.to_numpy()\n",
    "X_norm = pipe.fit_transform(X)"
   ]
  },
  {
   "cell_type": "code",
   "execution_count": null,
   "metadata": {},
   "outputs": [],
   "source": [
    "X_norm"
   ]
  },
  {
   "cell_type": "code",
   "execution_count": null,
   "metadata": {},
   "outputs": [],
   "source": [
    "def viz3d(X_embedding, titre='visu 3D'):\n",
    "    \"\"\"Utility function to plot a 3D picture\n",
    "\n",
    "    Args:\n",
    "        X_embedding (_type_): _description_\n",
    "    \"\"\"\n",
    "    fig = plt.figure(figsize=(6,6))\n",
    "    ax = plt.axes(projection='3d')\n",
    "    \n",
    "    xs = X_embedding[:,0]\n",
    "    ys = X_embedding[:,1]\n",
    "    zs = X_embedding[:,2]\n",
    "    \n",
    "    ax.scatter3D(xs, ys, zs)\n",
    "    ax.set_title(titre)\n",
    "    \n",
    "    plt.show()\n",
    "    \n",
    "    return fig, ax"
   ]
  },
  {
   "cell_type": "markdown",
   "metadata": {},
   "source": [
    "### Vizualization : PCA, t-SNE"
   ]
  },
  {
   "cell_type": "code",
   "execution_count": null,
   "metadata": {},
   "outputs": [],
   "source": [
    "pca = PCA(\n",
    "    n_components = 3\n",
    ")\n",
    "\n",
    "X_new = pca.fit_transform(X_norm)\n",
    "\n",
    "expl = [ r*100 for r in pca.explained_variance_ratio_ ]\n",
    "expl_s = [ f'{e:.1f}%' for e in expl ]\n",
    "print(f'Variance per principal component : {expl_s}%')\n",
    "\n",
    "viz3d(X_new, 'PCA')\n",
    "plt.show()"
   ]
  },
  {
   "cell_type": "code",
   "execution_count": null,
   "metadata": {},
   "outputs": [],
   "source": [
    "X_new = TSNE(\n",
    "    n_components=3, \n",
    "    learning_rate='auto',\n",
    "    perplexity=10  # reltaed to the number of neighbors used in other manifold learning algorithms. Highly sensitve parameter.\n",
    "    ).fit_transform(X_norm)\n",
    "\n",
    "viz3d(X_new, 't-SNE')\n",
    "plt.show()"
   ]
  },
  {
   "cell_type": "markdown",
   "metadata": {},
   "source": [
    "### Clustering"
   ]
  },
  {
   "cell_type": "markdown",
   "metadata": {},
   "source": [
    "k-means"
   ]
  },
  {
   "cell_type": "code",
   "execution_count": null,
   "metadata": {},
   "outputs": [],
   "source": [
    "# finding a good number of clusters\n",
    "\n",
    "MAX_CLUSTERS = 100\n",
    "range_clusters = range(2, MAX_CLUSTERS+1)\n",
    "\n",
    "silhouette = np.zeros(shape=(MAX_CLUSTERS-1))\n",
    "\n",
    "for n_clusters in range_clusters:\n",
    "    kmeans = KMeans(\n",
    "        n_clusters=n_clusters,\n",
    "        random_state=0,\n",
    "        init='k-means++', # educated attempt to have a good initialization\n",
    "        n_init=1  # because k-means++\n",
    "        )\n",
    "    labels = kmeans.fit_predict(X_norm)\n",
    "    silhouette[n_clusters-2] = silhouette_score(X_norm, labels)\n",
    "    print(f'Silhouette score for {n_clusters} clusters = {silhouette[n_clusters-2]}')\n",
    "    \n",
    "n_cluster_opt = np.argmax(silhouette) + 2\n",
    "print(f'Nb clusters retenu = {n_cluster_opt}')"
   ]
  },
  {
   "cell_type": "code",
   "execution_count": null,
   "metadata": {},
   "outputs": [],
   "source": [
    "fig, ax = plt.subplots()\n",
    "\n",
    "ax.plot(silhouette)\n",
    "ax.grid(True)\n",
    "ax.set_title('Silhouette score v number of kmeans clusters')\n",
    "plt.show()"
   ]
  },
  {
   "cell_type": "code",
   "execution_count": null,
   "metadata": {},
   "outputs": [],
   "source": [
    "kmeans = KMeans(\n",
    "    n_clusters=n_cluster_opt,\n",
    "    random_state=0,\n",
    "    init='k-means++', # educated attempt to have a good initialization\n",
    "    n_init=1  # because k-means++\n",
    ")"
   ]
  },
  {
   "cell_type": "code",
   "execution_count": null,
   "metadata": {},
   "outputs": [],
   "source": [
    "def visu3d(X_norm=X_norm, model=None, labels=None, titre='Visu 3d'):\n",
    "    \"\"\"Utility function to plot the 3d PCA projection of the trained model with clusters labels\n",
    "\n",
    "    Args:\n",
    "        X_norm (_type_, optional): _description_. Defaults to X_norm.\n",
    "        model (_type_, optional): _description_. Defaults to None.\n",
    "        labels (_type_, optional): _description_. Defaults to None.\n",
    "    \"\"\"\n",
    "    \n",
    "    unique_labels = np.unique(labels)\n",
    "    \n",
    "    pca = PCA(n_components = 3)\n",
    "    X_embedding = pca.fit_transform(X_norm)\n",
    "    \n",
    "    fig = plt.figure(figsize=(6,6))\n",
    "    ax = plt.axes(projection='3d')\n",
    "\n",
    "    xs = X_embedding[:,0]\n",
    "    ys = X_embedding[:,1]\n",
    "    zs = X_embedding[:,2]\n",
    "\n",
    "    colors = [plt.cm.Spectral(each) for each in np.linspace(0, 1, len(unique_labels))]\n",
    "    c = [ colors[labels[i]] if labels[i] >= 0 else [0,0,0,1] for i in range(len(labels)) ]\n",
    "        \n",
    "    ax.scatter3D(xs, ys, zs, color=c)\n",
    "    n_clusters = len(set(unique_labels)) - (1 if -1 in labels else 0)\n",
    "    titre = titre + f' {n_clusters} clusters'\n",
    "    ax.set_title(titre)\n",
    "        \n",
    "    plt.show()\n",
    "    \n",
    "    return fig, ax"
   ]
  },
  {
   "cell_type": "code",
   "execution_count": null,
   "metadata": {},
   "outputs": [],
   "source": [
    "labels = kmeans.fit_predict(X_norm)\n",
    "\n",
    "fig, ax = visu3d(\n",
    "    X_norm=X_norm,\n",
    "    model=kmeans,\n",
    "    labels=kmeans.fit_predict(X_norm),\n",
    "    titre=f'kmeans'\n",
    ")"
   ]
  },
  {
   "cell_type": "markdown",
   "metadata": {},
   "source": [
    "DBSCAN"
   ]
  },
  {
   "cell_type": "code",
   "execution_count": null,
   "metadata": {},
   "outputs": [],
   "source": [
    "# finding a good pair of Epsilon x Min_samples parameters\n",
    "\n",
    "# epsilons\n",
    "distances = pairwise_distances(X_norm, X_norm).flatten() # compute all the euclidian distances between two points in X_norm\n",
    "dmax = np.max(distances)\n",
    "print(f'max distance between two points in feature space = {dmax}')\n",
    "N_EPSILONS = 5\n",
    "epsilons_range = np.linspace(dmax/100.0, dmax/20.0, num=N_EPSILONS)\n",
    "# print(epsilons_range)\n",
    "\n",
    "# minimum samples\n",
    "n_samples = X_norm.shape[0]\n",
    "N_MIN_SAMPLES = 10\n",
    "min_samples_range = np.linspace(n_samples/2000, n_samples/100, num=N_MIN_SAMPLES).astype('int')\n",
    "# print(min_samples_range)\n",
    "\n",
    "# silhouettes calculations\n",
    "silhouette_max = -1.0\n",
    "\n",
    "for epsilon, min_samples in product(epsilons_range, min_samples_range):\n",
    "    print(f'-----------------------------------------------------')\n",
    "    print(f'n_samples = {min_samples}, epsilon = {epsilon}')\n",
    "    \n",
    "    db = DBSCAN(\n",
    "        eps=epsilon,\n",
    "        min_samples=min_samples\n",
    "        )\n",
    "    \n",
    "    labels = db.fit_predict(X_norm)\n",
    "    \n",
    "    n_clusters_ = len(set(labels)) - (1 if -1 in labels else 0)  # number of found clusters (without -1 which is the label for noise\n",
    "    n_noise_ = list(labels).count(-1)  # number of noisy points\n",
    "    noise_ratio = n_noise_/n_samples\n",
    "    \n",
    "    print(f'number of clusters found is {n_clusters_}')\n",
    "    print(f'number of noise points found is {n_noise_} out of {n_samples} total (ie {noise_ratio*100:.2f}%)')\n",
    "    \n",
    "    if len(set(labels)) >= 2:\n",
    "        s = silhouette_score(X_norm, labels)\n",
    "        print(f'Silhouette score for {n_clusters_} clusters = {s:.3f}')\n",
    "    else:\n",
    "        print(f'Not calulating silhouette score as only one label found')\n",
    "    \n",
    "    if s > silhouette_max:\n",
    "        silhouette_max = s\n",
    "        opt_n_clusters = n_clusters_\n",
    "        opt_eps = epsilon\n",
    "        opt_min_samples = min_samples\n",
    "        opt_noise_ratio = noise_ratio\n",
    "        \n",
    "print(f'====================================================================================================')\n",
    "print(f'Best silhouette score is {silhouette_max} with {opt_n_clusters} clusters and {opt_noise_ratio*100:.2f}% noise, for epsilon = {opt_eps} and min_samples = {opt_min_samples}')"
   ]
  },
  {
   "cell_type": "code",
   "execution_count": null,
   "metadata": {},
   "outputs": [],
   "source": [
    "print(f'Running DBSCAN with epsilon = {opt_eps} and min_samples = {opt_min_samples}.\\nSilhouette score is {silhouette_max} with {opt_n_clusters} clusters and {opt_noise_ratio*100:.2f}% noise')\n",
    "\n",
    "db = DBSCAN(\n",
    "    eps=opt_eps,\n",
    "    min_samples=opt_min_samples\n",
    ")\n",
    "\n",
    "labels = db.fit_predict(X_norm)\n",
    "\n",
    "n_clusters_ = len(set(labels)) - (1 if -1 in labels else 0)  # number of found clusters (without -1 which is the label for noise)\n",
    "n_noise_ = list(labels).count(-1)  # number of noisy points\n",
    "n_points = X_norm.shape[0]\n",
    "\n",
    "print(f'=> number of clusters found is {n_clusters_}')\n",
    "print(f'=> number of noise points found is {n_noise_} out of {n_points} total (ie {n_noise_/n_points*100:.2f}%)')"
   ]
  },
  {
   "cell_type": "code",
   "execution_count": null,
   "metadata": {},
   "outputs": [],
   "source": [
    "labels = db.fit_predict(X_norm)\n",
    "\n",
    "fig, ax = visu3d(\n",
    "    X_norm=X_norm,\n",
    "    model=db,\n",
    "    labels=db.fit_predict(X_norm),\n",
    "    titre=f'DBSCAN'\n",
    ")"
   ]
  },
  {
   "cell_type": "markdown",
   "metadata": {},
   "source": [
    "### Gaussian Mixtures"
   ]
  },
  {
   "cell_type": "code",
   "execution_count": null,
   "metadata": {},
   "outputs": [],
   "source": [
    "N_MAX_GAUSSIANS = 100\n",
    "ng_bics = []\n",
    "bics = []\n",
    "\n",
    "for i in range(1, N_MAX_GAUSSIANS, 5):\n",
    "    n_gaussians = i+1\n",
    "    gm = GaussianMixture(\n",
    "        n_components=n_gaussians,\n",
    "        covariance_type='full',\n",
    "        random_state=42\n",
    "        )\n",
    "    \n",
    "    labels = gm.fit_predict(X_norm)\n",
    "    bic = gm.bic(X_norm)\n",
    "    print(f'Model with {n_gaussians} gaussian(s) : BIC score = {bic:.0f}')\n",
    "    \n",
    "    ng_bics.append(n_gaussians)\n",
    "    bics.append(bic)\n",
    "    \n",
    "opt_n_gaussians = ng_bics[np.argmin(bics)]\n",
    "print(f'Best BIC score with {opt_n_gaussians}')"
   ]
  },
  {
   "cell_type": "code",
   "execution_count": null,
   "metadata": {},
   "outputs": [],
   "source": [
    "opt_n_gaussians = ng_bics[np.argmin(bics)]\n",
    "print(f'Best BIC score {np.min(bics):.0f} with {opt_n_gaussians} gaussians')\n",
    "\n",
    "fig, ax = plt.subplots()\n",
    "\n",
    "ax.plot(ng_bics, bics)\n",
    "ax.grid(True)\n",
    "ax.set_title(f'BIC score v number of Gaussians in GMM model')\n",
    "plt.show()"
   ]
  },
  {
   "cell_type": "code",
   "execution_count": null,
   "metadata": {},
   "outputs": [],
   "source": [
    "gm = GaussianMixture(\n",
    "    n_components=opt_n_gaussians,\n",
    "    covariance_type='full',\n",
    "    random_state=42\n",
    ")\n",
    "\n",
    "labels = gm.fit_predict(X_norm)\n",
    "\n",
    "print(f'BIC score = {gm.bic(X_norm):.2f}')"
   ]
  },
  {
   "cell_type": "code",
   "execution_count": null,
   "metadata": {},
   "outputs": [],
   "source": [
    "fig, ax = visu3d(\n",
    "    X_norm=X_norm,\n",
    "    model=gm,\n",
    "    labels=labels,\n",
    "    titre=f'GMM'\n",
    ")"
   ]
  },
  {
   "cell_type": "code",
   "execution_count": null,
   "metadata": {},
   "outputs": [],
   "source": []
  },
  {
   "cell_type": "code",
   "execution_count": null,
   "metadata": {},
   "outputs": [],
   "source": []
  }
 ],
 "metadata": {
  "kernelspec": {
   "display_name": "cyber",
   "language": "python",
   "name": "python3"
  },
  "language_info": {
   "codemirror_mode": {
    "name": "ipython",
    "version": 3
   },
   "file_extension": ".py",
   "mimetype": "text/x-python",
   "name": "python",
   "nbconvert_exporter": "python",
   "pygments_lexer": "ipython3",
   "version": "3.10.9"
  },
  "orig_nbformat": 4
 },
 "nbformat": 4,
 "nbformat_minor": 2
}
