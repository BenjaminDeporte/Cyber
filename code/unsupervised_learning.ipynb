{
 "cells": [
  {
   "cell_type": "markdown",
   "metadata": {},
   "source": [
    "# Unsupervised learning"
   ]
  },
  {
   "cell_type": "markdown",
   "metadata": {},
   "source": [
    "### The goal of the notebook is to research some models x features sets out of *.pcaps"
   ]
  },
  {
   "cell_type": "code",
   "execution_count": 1,
   "metadata": {},
   "outputs": [],
   "source": [
    "# imports\n",
    "\n",
    "import numpy as np\n",
    "import pandas as pd\n",
    "import matplotlib.pyplot as plt\n",
    "import logging\n",
    "import collections\n",
    "import seaborn as sns\n",
    "\n",
    "import pyshark\n",
    "import networkx as nx\n",
    "\n",
    "# PATH change to access library cyberlib\n",
    "import sys\n",
    "sys.path.append('/home/benjamin/Folders_Python/Cyber/libs')\n",
    "import cyberlib as cbl"
   ]
  },
  {
   "cell_type": "code",
   "execution_count": 2,
   "metadata": {},
   "outputs": [],
   "source": [
    "# logging set-up\n",
    "\n",
    "lg = cbl.GetLogger('/home/benjamin/Folders_Python/Cyber/logs/unsupervised_learning.log')\n",
    "logger = lg.get_custom_logger()\n",
    "\n",
    "# start your engine\n",
    "logger.info(\"-------- new run --------\")"
   ]
  },
  {
   "cell_type": "markdown",
   "metadata": {},
   "source": [
    "### Get the *.pcap to play with"
   ]
  },
  {
   "cell_type": "code",
   "execution_count": 3,
   "metadata": {},
   "outputs": [],
   "source": [
    "PCAPFILE = '/home/benjamin/Folders_Python/Cyber/data/input_pcaps/test.pcap'"
   ]
  },
  {
   "cell_type": "code",
   "execution_count": 4,
   "metadata": {},
   "outputs": [],
   "source": [
    "capture = pyshark.FileCapture(\n",
    "    input_file=PCAPFILE,\n",
    "    use_ek=False\n",
    ")\n",
    "\n",
    "logger.info(f'-- created a capture object in PyShark with pcap file = {PCAPFILE} --')"
   ]
  },
  {
   "cell_type": "code",
   "execution_count": 5,
   "metadata": {},
   "outputs": [
    {
     "name": "stdout",
     "output_type": "stream",
     "text": [
      "{   'ETH': {   'dst': '00:1f:f3:3c:e1:13',\n",
      "               'src': 'f8:1e:df:e5:84:3a',\n",
      "               'type': '0x00000800'},\n",
      "    'IP': {   'dst': '74.125.19.17',\n",
      "              'flags': '0x00000040',\n",
      "              'hdr_len': '20',\n",
      "              'id': '0x0000de53',\n",
      "              'len': '79',\n",
      "              'proto': '6',\n",
      "              'src': '172.16.11.12',\n",
      "              'ttl': '64',\n",
      "              'version': '4'},\n",
      "    'TCP': {   'ack': '1',\n",
      "               'dstport': '443',\n",
      "               'flags': '0x00000018',\n",
      "               'hdr_len': '32',\n",
      "               'len': '27',\n",
      "               'payload': '15:03:01:00:16:43:1a:88:1e:fa:7a:bc:22:6e:e6:32:7a:53:47:00:a7:5d:cc:64:ea:8e:92',\n",
      "               'seq': '1',\n",
      "               'srcport': '64565',\n",
      "               'stream': '0',\n",
      "               'time_delta': '0.000000000',\n",
      "               'time_relative': '0.000000000'},\n",
      "    'TIMESTAMP': {'ts': datetime.datetime(2010, 7, 7, 5, 16, 19, 466743)}}\n",
      "-------------\n",
      "{   'ETH': {   'dst': '00:1f:f3:3c:e1:13',\n",
      "               'src': 'f8:1e:df:e5:84:3a',\n",
      "               'type': '0x00000800'},\n",
      "    'IP': {   'dst': '74.125.19.17',\n",
      "              'flags': '0x00000040',\n",
      "              'hdr_len': '20',\n",
      "              'id': '0x00004c05',\n",
      "              'len': '52',\n",
      "              'proto': '6',\n",
      "              'src': '172.16.11.12',\n",
      "              'ttl': '64',\n",
      "              'version': '4'},\n",
      "    'TCP': {   'ack': '1',\n",
      "               'dstport': '443',\n",
      "               'flags': '0x00000011',\n",
      "               'hdr_len': '32',\n",
      "               'len': '0',\n",
      "               'payload': None,\n",
      "               'seq': '28',\n",
      "               'srcport': '64565',\n",
      "               'stream': '0',\n",
      "               'time_delta': '0.000722000',\n",
      "               'time_relative': '0.000722000'},\n",
      "    'TIMESTAMP': {'ts': datetime.datetime(2010, 7, 7, 5, 16, 19, 467465)}}\n",
      "-------------\n",
      "{   'ETH': {   'dst': 'f8:1e:df:e5:84:3a',\n",
      "               'src': '00:1f:f3:3c:e1:13',\n",
      "               'type': '0x00000800'},\n",
      "    'IP': {   'dst': '172.16.11.12',\n",
      "              'flags': '0x00000000',\n",
      "              'hdr_len': '20',\n",
      "              'id': '0x0000ab4f',\n",
      "              'len': '52',\n",
      "              'proto': '6',\n",
      "              'src': '74.125.19.17',\n",
      "              'ttl': '54',\n",
      "              'version': '4'},\n",
      "    'TCP': {   'ack': '28',\n",
      "               'dstport': '64565',\n",
      "               'flags': '0x00000010',\n",
      "               'hdr_len': '32',\n",
      "               'len': '0',\n",
      "               'payload': None,\n",
      "               'seq': '1',\n",
      "               'srcport': '443',\n",
      "               'stream': '0',\n",
      "               'time_delta': '0.020855000',\n",
      "               'time_relative': '0.021577000'},\n",
      "    'TIMESTAMP': {'ts': datetime.datetime(2010, 7, 7, 5, 16, 19, 488320)}}\n",
      "-------------\n",
      "{   'ETH': {   'dst': '00:1f:f3:3c:e1:13',\n",
      "               'src': 'f8:1e:df:e5:84:3a',\n",
      "               'type': '0x00000800'},\n",
      "    'IP': {   'dst': '74.125.19.17',\n",
      "              'flags': '0x00000040',\n",
      "              'hdr_len': '20',\n",
      "              'id': '0x0000fc17',\n",
      "              'len': '52',\n",
      "              'proto': '6',\n",
      "              'src': '172.16.11.12',\n",
      "              'ttl': '64',\n",
      "              'version': '4'},\n",
      "    'TCP': {   'ack': '1',\n",
      "               'dstport': '443',\n",
      "               'flags': '0x00000011',\n",
      "               'hdr_len': '32',\n",
      "               'len': '0',\n",
      "               'payload': None,\n",
      "               'seq': '28',\n",
      "               'srcport': '64565',\n",
      "               'stream': '0',\n",
      "               'time_delta': '0.000049000',\n",
      "               'time_relative': '0.021626000'},\n",
      "    'TIMESTAMP': {'ts': datetime.datetime(2010, 7, 7, 5, 16, 19, 488369)}}\n",
      "-------------\n",
      "{   'ETH': {   'dst': 'f8:1e:df:e5:84:3a',\n",
      "               'src': '00:1f:f3:3c:e1:13',\n",
      "               'type': '0x00000800'},\n",
      "    'IP': {   'dst': '172.16.11.12',\n",
      "              'flags': '0x00000000',\n",
      "              'hdr_len': '20',\n",
      "              'id': '0x0000ab50',\n",
      "              'len': '52',\n",
      "              'proto': '6',\n",
      "              'src': '74.125.19.17',\n",
      "              'ttl': '54',\n",
      "              'version': '4'},\n",
      "    'TCP': {   'ack': '28',\n",
      "               'dstport': '64565',\n",
      "               'flags': '0x00000011',\n",
      "               'hdr_len': '32',\n",
      "               'len': '0',\n",
      "               'payload': None,\n",
      "               'seq': '1',\n",
      "               'srcport': '443',\n",
      "               'stream': '0',\n",
      "               'time_delta': '0.000958000',\n",
      "               'time_relative': '0.022584000'},\n",
      "    'TIMESTAMP': {'ts': datetime.datetime(2010, 7, 7, 5, 16, 19, 489327)}}\n",
      "-------------\n"
     ]
    }
   ],
   "source": [
    "import pprint\n",
    "pp = pprint.PrettyPrinter(indent=4)\n",
    "\n",
    "NB=5\n",
    "\n",
    "for id in range(NB):\n",
    "    p = cbl.PyPacket(capture[id])\n",
    "    pp.pprint(p.data)\n",
    "    print('-------------')"
   ]
  },
  {
   "cell_type": "markdown",
   "metadata": {},
   "source": [
    "### Choice of features"
   ]
  },
  {
   "cell_type": "markdown",
   "metadata": {},
   "source": [
    "We will look at Ethernet packets part of a TCP conversation\n",
    "\n",
    "Features at TCP level : source port, destination port, sequence number, acknowledgement number, flags, header length, total length, time delta since last packet, time delta since first packet\n",
    "\n",
    "Features at IP level : source IP, destination IP, flags, header length, length, identification, ttl, version\n",
    "\n",
    "Features at ETH level : None"
   ]
  },
  {
   "cell_type": "code",
   "execution_count": 12,
   "metadata": {},
   "outputs": [],
   "source": [
    "df = cbl.GetTCPDataframeFromFileCapture(filecapture=capture).dataframe"
   ]
  },
  {
   "cell_type": "code",
   "execution_count": 14,
   "metadata": {},
   "outputs": [
    {
     "name": "stdout",
     "output_type": "stream",
     "text": [
      "<class 'pandas.core.frame.DataFrame'>\n",
      "RangeIndex: 106 entries, 0 to 105\n",
      "Data columns (total 22 columns):\n",
      " #   Column             Non-Null Count  Dtype         \n",
      "---  ------             --------------  -----         \n",
      " 0   ETH_dst            106 non-null    int64         \n",
      " 1   ETH_src            106 non-null    int64         \n",
      " 2   IP_id              106 non-null    int64         \n",
      " 3   IP_flags           106 non-null    int64         \n",
      " 4   IP_src             106 non-null    int64         \n",
      " 5   IP_dst             106 non-null    int64         \n",
      " 6   TCP_flags          106 non-null    int64         \n",
      " 7   IP_version         106 non-null    float64       \n",
      " 8   IP_hdr_len         106 non-null    float64       \n",
      " 9   IP_len             106 non-null    float64       \n",
      " 10  IP_ttl             106 non-null    float64       \n",
      " 11  IP_proto           106 non-null    float64       \n",
      " 12  TCP_srcport        106 non-null    float64       \n",
      " 13  TCP_dstport        106 non-null    float64       \n",
      " 14  TCP_stream         106 non-null    float64       \n",
      " 15  TCP_len            106 non-null    float64       \n",
      " 16  TCP_seq            106 non-null    float64       \n",
      " 17  TCP_ack            106 non-null    float64       \n",
      " 18  TCP_hdr_len        106 non-null    float64       \n",
      " 19  TCP_time_relative  106 non-null    float64       \n",
      " 20  TCP_time_delta     106 non-null    float64       \n",
      " 21  TIMESTAMP_ts       106 non-null    datetime64[ns]\n",
      "dtypes: datetime64[ns](1), float64(14), int64(7)\n",
      "memory usage: 18.3 KB\n"
     ]
    }
   ],
   "source": [
    "df.info()"
   ]
  },
  {
   "cell_type": "code",
   "execution_count": null,
   "metadata": {},
   "outputs": [],
   "source": []
  },
  {
   "cell_type": "code",
   "execution_count": null,
   "metadata": {},
   "outputs": [],
   "source": []
  },
  {
   "cell_type": "code",
   "execution_count": null,
   "metadata": {},
   "outputs": [],
   "source": []
  },
  {
   "cell_type": "code",
   "execution_count": null,
   "metadata": {},
   "outputs": [],
   "source": []
  }
 ],
 "metadata": {
  "kernelspec": {
   "display_name": "cyber",
   "language": "python",
   "name": "python3"
  },
  "language_info": {
   "codemirror_mode": {
    "name": "ipython",
    "version": 3
   },
   "file_extension": ".py",
   "mimetype": "text/x-python",
   "name": "python",
   "nbconvert_exporter": "python",
   "pygments_lexer": "ipython3",
   "version": "3.10.9"
  },
  "orig_nbformat": 4
 },
 "nbformat": 4,
 "nbformat_minor": 2
}
