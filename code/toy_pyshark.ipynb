{
 "cells": [
  {
   "cell_type": "code",
   "execution_count": 1,
   "metadata": {},
   "outputs": [],
   "source": [
    "import numpy as np\n",
    "import pandas as pd\n",
    "import pyshark\n",
    "import matplotlib.pyplot as plt\n",
    "import json # original json library\n",
    "import logging"
   ]
  },
  {
   "cell_type": "code",
   "execution_count": 2,
   "metadata": {},
   "outputs": [],
   "source": [
    "LOG_FILENAME = '/home/benjamin/Folders_Python/Cyber/logs/logfile.log'\n",
    "LOG_FORMAT = '%(asctime)% -- %(name)s -- %(levelname)s -- %(message)s'\n",
    "# LOG_LEVEL = logging.INFO\n",
    "\n",
    "# specific logger for the module\n",
    "logger = logging.getLogger(__name__)   # creates specific logger for the module\n",
    "logger.setLevel(logging.DEBUG)    # entry level of messages from all handlers\n",
    "LOG_FORMAT = '%(asctime)s -- %(name)s -- %(levelname)s -- %(message)s'\n",
    "formatter = logging.Formatter(LOG_FORMAT)\n",
    "\n",
    "# file handler to log everything\n",
    "file_handler = logging.FileHandler(LOG_FILENAME, mode='w')\n",
    "file_handler.setLevel(logging.INFO)  # all messages (DEBUG and up) get logged in the file\n",
    "file_handler.setFormatter(formatter)\n",
    "logger.addHandler(file_handler)\n",
    "\n",
    "# stream handler to show messages to the console\n",
    "console = logging.StreamHandler()\n",
    "console.setLevel(logging.WARNING)  # Warning messages and up get displayed to the console\n",
    "console.setFormatter(formatter)\n",
    "logger.addHandler(console)\n",
    "\n",
    "# start your engine\n",
    "logger.info(\"-------- new run --------\")"
   ]
  },
  {
   "cell_type": "code",
   "execution_count": 8,
   "metadata": {},
   "outputs": [
    {
     "name": "stdout",
     "output_type": "stream",
     "text": [
      "<FileCapture /home/benjamin/Folders_Python/Cyber/data/input_pcaps/input.pcap>\n"
     ]
    }
   ],
   "source": [
    "capture = pyshark.FileCapture(\n",
    "    input_file='/home/benjamin/Folders_Python/Cyber/data/input_pcaps/input.pcap',\n",
    ")\n",
    "\n",
    "print(capture)\n",
    "\n",
    "pkt = capture[0]"
   ]
  },
  {
   "cell_type": "code",
   "execution_count": 9,
   "metadata": {},
   "outputs": [
    {
     "data": {
      "text/plain": [
       "['__bool__',\n",
       " '__class__',\n",
       " '__contains__',\n",
       " '__delattr__',\n",
       " '__dict__',\n",
       " '__dir__',\n",
       " '__doc__',\n",
       " '__eq__',\n",
       " '__format__',\n",
       " '__ge__',\n",
       " '__getattr__',\n",
       " '__getattribute__',\n",
       " '__getitem__',\n",
       " '__getstate__',\n",
       " '__gt__',\n",
       " '__hash__',\n",
       " '__init__',\n",
       " '__init_subclass__',\n",
       " '__le__',\n",
       " '__len__',\n",
       " '__lt__',\n",
       " '__module__',\n",
       " '__ne__',\n",
       " '__new__',\n",
       " '__reduce__',\n",
       " '__reduce_ex__',\n",
       " '__repr__',\n",
       " '__setattr__',\n",
       " '__setstate__',\n",
       " '__sizeof__',\n",
       " '__str__',\n",
       " '__subclasshook__',\n",
       " '__weakref__',\n",
       " '_packet_string',\n",
       " 'captured_length',\n",
       " 'data',\n",
       " 'eth',\n",
       " 'frame_info',\n",
       " 'get_multiple_layers',\n",
       " 'get_raw_packet',\n",
       " 'highest_layer',\n",
       " 'interface_captured',\n",
       " 'ip',\n",
       " 'layers',\n",
       " 'length',\n",
       " 'number',\n",
       " 'pretty_print',\n",
       " 'show',\n",
       " 'sniff_time',\n",
       " 'sniff_timestamp',\n",
       " 'transport_layer',\n",
       " 'udp']"
      ]
     },
     "execution_count": 9,
     "metadata": {},
     "output_type": "execute_result"
    }
   ],
   "source": [
    "dir(pkt)"
   ]
  },
  {
   "cell_type": "code",
   "execution_count": 11,
   "metadata": {},
   "outputs": [
    {
     "data": {
      "text/plain": [
       "[<ETH Layer>, <IP Layer>, <UDP Layer>, <DATA Layer>]"
      ]
     },
     "execution_count": 11,
     "metadata": {},
     "output_type": "execute_result"
    }
   ],
   "source": [
    "pkt.layers"
   ]
  },
  {
   "cell_type": "code",
   "execution_count": null,
   "metadata": {},
   "outputs": [],
   "source": []
  }
 ],
 "metadata": {
  "kernelspec": {
   "display_name": "cyber",
   "language": "python",
   "name": "python3"
  },
  "language_info": {
   "codemirror_mode": {
    "name": "ipython",
    "version": 3
   },
   "file_extension": ".py",
   "mimetype": "text/x-python",
   "name": "python",
   "nbconvert_exporter": "python",
   "pygments_lexer": "ipython3",
   "version": "3.10.9"
  },
  "orig_nbformat": 4
 },
 "nbformat": 4,
 "nbformat_minor": 2
}
