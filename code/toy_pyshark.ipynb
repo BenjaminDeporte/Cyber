{
 "cells": [
  {
   "cell_type": "markdown",
   "metadata": {},
   "source": [
    "# Basic manipulations with PyShark"
   ]
  },
  {
   "cell_type": "markdown",
   "metadata": {},
   "source": [
    "### Here, we use PyShark to parse through pcap packets, build dataframes and store them in Pickle format"
   ]
  },
  {
   "cell_type": "code",
   "execution_count": 15,
   "metadata": {},
   "outputs": [],
   "source": [
    "# PATH change to access library\n",
    "\n",
    "import sys\n",
    "sys.path.append('/home/benjamin/Folders_Python/Cyber/libs')\n",
    "\n",
    "# Imports\n",
    "\n",
    "import numpy as np\n",
    "import pandas as pd\n",
    "import pyshark\n",
    "import matplotlib.pyplot as plt\n",
    "import json # original json library\n",
    "import logging\n",
    "\n",
    "# Home made library\n",
    "\n",
    "import cyberlib as cbl"
   ]
  },
  {
   "cell_type": "code",
   "execution_count": 16,
   "metadata": {},
   "outputs": [],
   "source": [
    "# logging set-up for debug\n",
    "\n",
    "LOG_FILENAME = '/home/benjamin/Folders_Python/Cyber/logs/logfile.log'\n",
    "LOG_FORMAT = '%(asctime)% -- %(name)s -- %(levelname)s -- %(message)s'\n",
    "# LOG_LEVEL = logging.INFO\n",
    "\n",
    "# specific logger for the module\n",
    "logger = logging.getLogger(__name__)   # creates specific logger for the module\n",
    "logger.setLevel(logging.DEBUG)    # entry level of messages from all handlers\n",
    "LOG_FORMAT = '%(asctime)s -- %(name)s -- %(levelname)s -- %(message)s'\n",
    "formatter = logging.Formatter(LOG_FORMAT)\n",
    "\n",
    "# file handler to log everything\n",
    "file_handler = logging.FileHandler(LOG_FILENAME, mode='w')\n",
    "file_handler.setLevel(logging.DEBUG)  # all messages (DEBUG and up) get logged in the file\n",
    "file_handler.setFormatter(formatter)\n",
    "logger.addHandler(file_handler)\n",
    "\n",
    "# stream handler to show messages to the console\n",
    "console = logging.StreamHandler()\n",
    "console.setLevel(logging.WARNING)  # Warning messages and up get displayed to the console\n",
    "console.setFormatter(formatter)\n",
    "logger.addHandler(console)\n",
    "\n",
    "# start your engine\n",
    "logger.info(\"-------- new run --------\")"
   ]
  },
  {
   "cell_type": "code",
   "execution_count": 17,
   "metadata": {},
   "outputs": [],
   "source": [
    "PCAPFILE = '/home/benjamin/Folders_Python/Cyber/data/input_pcaps/traffic_cortex_seul_TM+TC.pcap'\n",
    "\n",
    "logger.info(f'-- entry pcap file = {PCAPFILE} --')"
   ]
  },
  {
   "cell_type": "code",
   "execution_count": 18,
   "metadata": {},
   "outputs": [],
   "source": [
    "import asyncio\n",
    "import nest_asyncio\n",
    "\n",
    "nest_asyncio.apply()  # fix the 'RunTime Error : this event loop is already running'"
   ]
  },
  {
   "cell_type": "code",
   "execution_count": 19,
   "metadata": {},
   "outputs": [],
   "source": [
    "# pcap file capture\n",
    "# ek is set to True : newline delimited JSON format\n",
    "# https://www.wireshark.org/docs/man-pages/tshark.html\n",
    "\n",
    "capture = pyshark.FileCapture(\n",
    "    input_file=PCAPFILE,\n",
    "    use_ek=True\n",
    ")\n",
    "\n",
    "pkt = capture[0]"
   ]
  },
  {
   "cell_type": "code",
   "execution_count": 20,
   "metadata": {},
   "outputs": [
    {
     "data": {
      "text/plain": [
       "['__bool__',\n",
       " '__class__',\n",
       " '__contains__',\n",
       " '__delattr__',\n",
       " '__dict__',\n",
       " '__dir__',\n",
       " '__doc__',\n",
       " '__eq__',\n",
       " '__format__',\n",
       " '__ge__',\n",
       " '__getattr__',\n",
       " '__getattribute__',\n",
       " '__getitem__',\n",
       " '__getstate__',\n",
       " '__gt__',\n",
       " '__hash__',\n",
       " '__init__',\n",
       " '__init_subclass__',\n",
       " '__le__',\n",
       " '__len__',\n",
       " '__lt__',\n",
       " '__module__',\n",
       " '__ne__',\n",
       " '__new__',\n",
       " '__reduce__',\n",
       " '__reduce_ex__',\n",
       " '__repr__',\n",
       " '__setattr__',\n",
       " '__setstate__',\n",
       " '__sizeof__',\n",
       " '__str__',\n",
       " '__subclasshook__',\n",
       " '__weakref__',\n",
       " '_packet_string',\n",
       " 'captured_length',\n",
       " 'eth',\n",
       " 'frame_info',\n",
       " 'get_multiple_layers',\n",
       " 'get_raw_packet',\n",
       " 'highest_layer',\n",
       " 'interface_captured',\n",
       " 'ip',\n",
       " 'layers',\n",
       " 'length',\n",
       " 'number',\n",
       " 'pretty_print',\n",
       " 'show',\n",
       " 'sniff_time',\n",
       " 'sniff_timestamp',\n",
       " 'tcp',\n",
       " 'transport_layer']"
      ]
     },
     "execution_count": 20,
     "metadata": {},
     "output_type": "execute_result"
    }
   ],
   "source": [
    "# what does a PyShark packet look like\n",
    "\n",
    "dir(pkt)"
   ]
  },
  {
   "cell_type": "code",
   "execution_count": 21,
   "metadata": {},
   "outputs": [
    {
     "name": "stdout",
     "output_type": "stream",
     "text": [
      "[<ETH Layer>, <IP Layer>, <TCP Layer>]\n"
     ]
    }
   ],
   "source": [
    "# layers in the first packet\n",
    "\n",
    "list_layers = pkt.layers\n",
    "\n",
    "print(list_layers)"
   ]
  },
  {
   "cell_type": "code",
   "execution_count": 22,
   "metadata": {},
   "outputs": [
    {
     "name": "stdout",
     "output_type": "stream",
     "text": [
      "layer 0 = ['addr', 'lg', 'src', 'type', 'dst', 'ig']\n",
      "layer 0 -- addr = <EkMultiField addr: 00:50:56:90:ca:b0>\n",
      "layer 0 -- lg = False\n",
      "layer 0 -- src = <EkMultiField src: 00:50:56:90:ca:b0>\n",
      "layer 0 -- type = 2048\n",
      "layer 0 -- dst = <EkMultiField dst: 00:50:56:90:19:42>\n",
      "layer 0 -- ig = False\n",
      "\n",
      "\n",
      "layer 1 = ['len', 'proto', 'addr', 'host', 'hdr', 'checksum', 'dsfield', 'flags', 'version', 'src', 'ttl', 'frag', 'dst', 'id']\n",
      "layer 1 -- len = 60\n",
      "layer 1 -- proto = 6\n",
      "layer 1 -- addr = ['10.149.48.102', '10.149.48.122']\n",
      "layer 1 -- host = ['10.149.48.102', '10.149.48.122']\n",
      "layer 1 -- hdr = <EkMultiField hdr>\n",
      "layer 1 -- checksum = <EkMultiField checksum: 55077>\n",
      "layer 1 -- dsfield = <EkMultiField dsfield>\n",
      "layer 1 -- flags = <EkMultiField flags: 2>\n",
      "layer 1 -- version = 4\n",
      "layer 1 -- src = <EkMultiField src: 10.149.48.102>\n",
      "layer 1 -- ttl = 64\n",
      "layer 1 -- frag = <EkMultiField frag>\n",
      "layer 1 -- dst = <EkMultiField dst: 10.149.48.122>\n",
      "layer 1 -- id = 60812\n",
      "\n",
      "\n",
      "layer 2 = ['len', 'seq', 'window', 'nxtseq', 'hdr', 'checksum', 'option', 'urgent', 'flags', 'srcport', 'port', 'dstport', 'completeness', 'time', 'ack', 'stream', 'options']\n",
      "layer 2 -- len = 0\n",
      "layer 2 -- seq = <EkMultiField seq>\n",
      "layer 2 -- window = <EkMultiField window>\n",
      "layer 2 -- nxtseq = 1\n",
      "layer 2 -- hdr = <EkMultiField hdr>\n",
      "layer 2 -- checksum = <EkMultiField checksum: 33511>\n",
      "layer 2 -- option = <EkMultiField option>\n",
      "layer 2 -- urgent = <EkMultiField urgent>\n",
      "layer 2 -- flags = <EkMultiField flags: 2>\n",
      "layer 2 -- srcport = 45072\n",
      "layer 2 -- port = [45072, 18050]\n",
      "layer 2 -- dstport = 18050\n",
      "layer 2 -- completeness = 0\n",
      "layer 2 -- time = <EkMultiField time>\n",
      "layer 2 -- ack = <EkMultiField ack>\n",
      "layer 2 -- stream = 0\n",
      "layer 2 -- options = <EkMultiField options: b'\\x02\\x04\\x05\\xb4\\x04\\x02\\x08\\n\\x90c\"z\\x00\\x00\\x00\\x00\\x01\\x03\\x03\\n'>\n",
      "\n",
      "\n"
     ]
    }
   ],
   "source": [
    "# printing one level below\n",
    "\n",
    "for i,layer in enumerate(list_layers):\n",
    "    fields_names = layer.field_names\n",
    "    print(f'layer {i} = {fields_names}')\n",
    "    for field in fields_names:\n",
    "        print(f\"layer {i} -- {field} = {layer.get(field)}\")\n",
    "    print(f'\\n')"
   ]
  },
  {
   "cell_type": "code",
   "execution_count": 23,
   "metadata": {},
   "outputs": [],
   "source": [
    "# change of parameter ek to False : will output JSON\n",
    "\n",
    "capture = pyshark.FileCapture(\n",
    "    input_file=PCAPFILE,\n",
    "    use_ek=False\n",
    ")\n",
    "\n",
    "pkt = capture[0]  # get first packet out of the Capture object\n",
    "\n",
    "paquet = cbl.PyPacket(pkt) # turn it into a dictionnary with the homemade class PyPacket"
   ]
  },
  {
   "cell_type": "code",
   "execution_count": 24,
   "metadata": {},
   "outputs": [
    {
     "data": {
      "text/plain": [
       "{'ETH': {'dst': '00:50:56:90:19:42',\n",
       "  'src': '00:50:56:90:ca:b0',\n",
       "  'type': '0x0800'},\n",
       " 'IP': {'version': '4',\n",
       "  'hdr_len': '20',\n",
       "  'len': '60',\n",
       "  'id': '0xed8c',\n",
       "  'flags': '0x02',\n",
       "  'ttl': '64',\n",
       "  'proto': '6',\n",
       "  'src': '10.149.48.102',\n",
       "  'dst': '10.149.48.122'},\n",
       " 'TCP': {'srcport': '45072',\n",
       "  'dstport': '18050',\n",
       "  'stream': '0',\n",
       "  'len': '0',\n",
       "  'seq': '0',\n",
       "  'ack': '0',\n",
       "  'hdr_len': '40',\n",
       "  'flags': '0x0002',\n",
       "  'time_relative': '0.000000000',\n",
       "  'time_delta': '0.000000000',\n",
       "  'payload': None},\n",
       " 'TIMESTAMP': {'ts': datetime.datetime(2024, 2, 19, 10, 36, 55, 868842)}}"
      ]
     },
     "execution_count": 24,
     "metadata": {},
     "output_type": "execute_result"
    }
   ],
   "source": [
    "# create the dictionnary with the fields of the first packet\n",
    "\n",
    "paquet.data"
   ]
  },
  {
   "cell_type": "code",
   "execution_count": 25,
   "metadata": {},
   "outputs": [
    {
     "data": {
      "text/html": [
       "<div>\n",
       "<style scoped>\n",
       "    .dataframe tbody tr th:only-of-type {\n",
       "        vertical-align: middle;\n",
       "    }\n",
       "\n",
       "    .dataframe tbody tr th {\n",
       "        vertical-align: top;\n",
       "    }\n",
       "\n",
       "    .dataframe thead th {\n",
       "        text-align: right;\n",
       "    }\n",
       "</style>\n",
       "<table border=\"1\" class=\"dataframe\">\n",
       "  <thead>\n",
       "    <tr style=\"text-align: right;\">\n",
       "      <th></th>\n",
       "      <th>ETH_dst</th>\n",
       "      <th>ETH_src</th>\n",
       "      <th>ETH_type</th>\n",
       "      <th>IP_version</th>\n",
       "      <th>IP_hdr_len</th>\n",
       "      <th>IP_len</th>\n",
       "      <th>IP_id</th>\n",
       "      <th>IP_flags</th>\n",
       "      <th>IP_ttl</th>\n",
       "      <th>IP_proto</th>\n",
       "      <th>...</th>\n",
       "      <th>TCP_stream</th>\n",
       "      <th>TCP_len</th>\n",
       "      <th>TCP_seq</th>\n",
       "      <th>TCP_ack</th>\n",
       "      <th>TCP_hdr_len</th>\n",
       "      <th>TCP_flags</th>\n",
       "      <th>TCP_time_relative</th>\n",
       "      <th>TCP_time_delta</th>\n",
       "      <th>TCP_payload</th>\n",
       "      <th>TIMESTAMP_ts</th>\n",
       "    </tr>\n",
       "  </thead>\n",
       "  <tbody>\n",
       "    <tr>\n",
       "      <th>0</th>\n",
       "      <td>00:50:56:90:19:42</td>\n",
       "      <td>00:50:56:90:ca:b0</td>\n",
       "      <td>0x0800</td>\n",
       "      <td>4</td>\n",
       "      <td>20</td>\n",
       "      <td>60</td>\n",
       "      <td>0xed8c</td>\n",
       "      <td>0x02</td>\n",
       "      <td>64</td>\n",
       "      <td>6</td>\n",
       "      <td>...</td>\n",
       "      <td>0</td>\n",
       "      <td>0</td>\n",
       "      <td>0</td>\n",
       "      <td>0</td>\n",
       "      <td>40</td>\n",
       "      <td>0x0002</td>\n",
       "      <td>0.000000000</td>\n",
       "      <td>0.000000000</td>\n",
       "      <td>None</td>\n",
       "      <td>2024-02-19 10:36:55.868842</td>\n",
       "    </tr>\n",
       "  </tbody>\n",
       "</table>\n",
       "<p>1 rows × 24 columns</p>\n",
       "</div>"
      ],
      "text/plain": [
       "             ETH_dst            ETH_src ETH_type IP_version IP_hdr_len IP_len  \\\n",
       "0  00:50:56:90:19:42  00:50:56:90:ca:b0   0x0800          4         20     60   \n",
       "\n",
       "    IP_id IP_flags IP_ttl IP_proto  ... TCP_stream TCP_len TCP_seq TCP_ack  \\\n",
       "0  0xed8c     0x02     64        6  ...          0       0       0       0   \n",
       "\n",
       "  TCP_hdr_len TCP_flags TCP_time_relative TCP_time_delta TCP_payload  \\\n",
       "0          40    0x0002       0.000000000    0.000000000        None   \n",
       "\n",
       "                TIMESTAMP_ts  \n",
       "0 2024-02-19 10:36:55.868842  \n",
       "\n",
       "[1 rows x 24 columns]"
      ]
     },
     "execution_count": 25,
     "metadata": {},
     "output_type": "execute_result"
    }
   ],
   "source": [
    "# finally, outputs a dataframe\n",
    "\n",
    "df = paquet.dataframe\n",
    "\n",
    "df"
   ]
  },
  {
   "cell_type": "markdown",
   "metadata": {},
   "source": [
    "### Dataframe creations out of the pcap file"
   ]
  },
  {
   "cell_type": "code",
   "execution_count": 26,
   "metadata": {},
   "outputs": [],
   "source": [
    "# run the 3 pcaps into a dataframe and save them\n",
    "\n",
    "file_dict = {\n",
    "    'css.pcap' : '/home/benjamin/Folders_Python/Cyber/data/input_pcaps/traffic_cortex_seul_TM+TC.pcap',\n",
    "    # 'test.pcap' : '/home/benjamin/Folders_Python/Cyber/data/input_pcaps/test.pcap',\n",
    "    # 'smallFlows.pcap' : '/home/benjamin/Folders_Python/Cyber/data/input_pcaps/smallFlows.pcap',\n",
    "    # 'bigFlows.pcap' : '/home/benjamin/Folders_Python/Cyber/data/input_pcaps/bigFlows.pcap'   # large and takes time\n",
    "}\n",
    "\n",
    "DIRPATH = '/home/benjamin/Folders_Python/Cyber/data/dataframes/'"
   ]
  },
  {
   "cell_type": "code",
   "execution_count": 27,
   "metadata": {},
   "outputs": [
    {
     "name": "stdout",
     "output_type": "stream",
     "text": [
      "processing css.pcap\n",
      "processing packet number 1636\n",
      "\n",
      "saving css.pcap as pickle\n"
     ]
    }
   ],
   "source": [
    "for filename, filepath in file_dict.items():\n",
    "    print(f\"processing {filename}\")\n",
    "    \n",
    "    capture = pyshark.FileCapture(\n",
    "        input_file=filepath,\n",
    "        use_ek=False\n",
    "        )\n",
    "    \n",
    "    df_full = pd.DataFrame()\n",
    "    i=0\n",
    "\n",
    "    while True:\n",
    "        try:\n",
    "            pkt = capture.next()\n",
    "            paquet = cbl.PyPacket(pkt)\n",
    "            df = paquet.dataframe\n",
    "            df_full = pd.concat([df_full, df], axis=0)\n",
    "            i += 1\n",
    "            print (f'processing packet number {i}', end='\\r')\n",
    "        except StopIteration as e:\n",
    "            logger.info(f\"reached end of capture after reading {i} packets\")\n",
    "            break\n",
    "        \n",
    "    df_full = df_full.reset_index(drop=True)\n",
    "    \n",
    "    savename = DIRPATH + filename + '.pkl'\n",
    "    df_full.to_pickle(savename)\n",
    "    print('\\n')\n",
    "    print(f'saving {filename} as pickle')"
   ]
  }
 ],
 "metadata": {
  "kernelspec": {
   "display_name": "cyber",
   "language": "python",
   "name": "python3"
  },
  "language_info": {
   "codemirror_mode": {
    "name": "ipython",
    "version": 3
   },
   "file_extension": ".py",
   "mimetype": "text/x-python",
   "name": "python",
   "nbconvert_exporter": "python",
   "pygments_lexer": "ipython3",
   "version": "3.10.12"
  },
  "orig_nbformat": 4
 },
 "nbformat": 4,
 "nbformat_minor": 2
}
