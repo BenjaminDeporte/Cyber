{
 "cells": [
  {
   "cell_type": "markdown",
   "metadata": {},
   "source": [
    "# Basic manipulations with PyShark"
   ]
  },
  {
   "cell_type": "markdown",
   "metadata": {},
   "source": [
    "### Here, we use PyShark to parse through pcap packets, build dataframes and store them in Pickle format"
   ]
  },
  {
   "cell_type": "code",
   "execution_count": 1,
   "metadata": {},
   "outputs": [],
   "source": [
    "# PATH change to access library\n",
    "\n",
    "import sys\n",
    "sys.path.append('/home/benjamin/Folders_Python/Cyber/libs')\n",
    "\n",
    "# Imports\n",
    "\n",
    "import numpy as np\n",
    "import pandas as pd\n",
    "import pyshark\n",
    "import matplotlib.pyplot as plt\n",
    "import json # original json library\n",
    "import logging\n",
    "\n",
    "# Home made library\n",
    "\n",
    "import cyberlib as cbl"
   ]
  },
  {
   "cell_type": "code",
   "execution_count": 2,
   "metadata": {},
   "outputs": [],
   "source": [
    "# logging set-up for debug\n",
    "\n",
    "LOG_FILENAME = '/home/benjamin/Folders_Python/Cyber/logs/logfile.log'\n",
    "LOG_FORMAT = '%(asctime)% -- %(name)s -- %(levelname)s -- %(message)s'\n",
    "# LOG_LEVEL = logging.INFO\n",
    "\n",
    "# specific logger for the module\n",
    "logger = logging.getLogger(__name__)   # creates specific logger for the module\n",
    "logger.setLevel(logging.DEBUG)    # entry level of messages from all handlers\n",
    "LOG_FORMAT = '%(asctime)s -- %(name)s -- %(levelname)s -- %(message)s'\n",
    "formatter = logging.Formatter(LOG_FORMAT)\n",
    "\n",
    "# file handler to log everything\n",
    "file_handler = logging.FileHandler(LOG_FILENAME, mode='w')\n",
    "file_handler.setLevel(logging.DEBUG)  # all messages (DEBUG and up) get logged in the file\n",
    "file_handler.setFormatter(formatter)\n",
    "logger.addHandler(file_handler)\n",
    "\n",
    "# stream handler to show messages to the console\n",
    "console = logging.StreamHandler()\n",
    "console.setLevel(logging.WARNING)  # Warning messages and up get displayed to the console\n",
    "console.setFormatter(formatter)\n",
    "logger.addHandler(console)\n",
    "\n",
    "# start your engine\n",
    "logger.info(\"-------- new run --------\")"
   ]
  },
  {
   "cell_type": "code",
   "execution_count": 3,
   "metadata": {},
   "outputs": [],
   "source": [
    "PCAPFILE = '/home/benjamin/Folders_Python/Cyber/data/input_pcaps/smallFlows.pcap'\n",
    "\n",
    "logger.info(f'-- entry pcap file = {PCAPFILE} --')"
   ]
  },
  {
   "cell_type": "code",
   "execution_count": 4,
   "metadata": {},
   "outputs": [],
   "source": [
    "# pcap file capture\n",
    "# ek is set to True : newline delimited JSON format\n",
    "# https://www.wireshark.org/docs/man-pages/tshark.html\n",
    "\n",
    "capture = pyshark.FileCapture(\n",
    "    input_file=PCAPFILE,\n",
    "    use_ek=True\n",
    ")\n",
    "\n",
    "pkt = capture[0]"
   ]
  },
  {
   "cell_type": "code",
   "execution_count": 5,
   "metadata": {},
   "outputs": [
    {
     "data": {
      "text/plain": [
       "['__bool__',\n",
       " '__class__',\n",
       " '__contains__',\n",
       " '__delattr__',\n",
       " '__dict__',\n",
       " '__dir__',\n",
       " '__doc__',\n",
       " '__eq__',\n",
       " '__format__',\n",
       " '__ge__',\n",
       " '__getattr__',\n",
       " '__getattribute__',\n",
       " '__getitem__',\n",
       " '__getstate__',\n",
       " '__gt__',\n",
       " '__hash__',\n",
       " '__init__',\n",
       " '__init_subclass__',\n",
       " '__le__',\n",
       " '__len__',\n",
       " '__lt__',\n",
       " '__module__',\n",
       " '__ne__',\n",
       " '__new__',\n",
       " '__reduce__',\n",
       " '__reduce_ex__',\n",
       " '__repr__',\n",
       " '__setattr__',\n",
       " '__setstate__',\n",
       " '__sizeof__',\n",
       " '__str__',\n",
       " '__subclasshook__',\n",
       " '__weakref__',\n",
       " '_packet_string',\n",
       " 'captured_length',\n",
       " 'eth',\n",
       " 'frame_info',\n",
       " 'get_multiple_layers',\n",
       " 'get_raw_packet',\n",
       " 'highest_layer',\n",
       " 'http',\n",
       " 'interface_captured',\n",
       " 'ip',\n",
       " 'layers',\n",
       " 'length',\n",
       " 'number',\n",
       " 'pretty_print',\n",
       " 'show',\n",
       " 'sniff_time',\n",
       " 'sniff_timestamp',\n",
       " 'tcp',\n",
       " 'transport_layer']"
      ]
     },
     "execution_count": 5,
     "metadata": {},
     "output_type": "execute_result"
    }
   ],
   "source": [
    "# what does a PyShark packet look like\n",
    "\n",
    "dir(pkt)"
   ]
  },
  {
   "cell_type": "code",
   "execution_count": 6,
   "metadata": {},
   "outputs": [
    {
     "name": "stdout",
     "output_type": "stream",
     "text": [
      "[<ETH Layer>, <IP Layer>, <TCP Layer>, <HTTP Layer>]\n"
     ]
    }
   ],
   "source": [
    "# layers in the first packet\n",
    "\n",
    "list_layers = pkt.layers\n",
    "\n",
    "print(list_layers)"
   ]
  },
  {
   "cell_type": "code",
   "execution_count": 7,
   "metadata": {},
   "outputs": [
    {
     "name": "stdout",
     "output_type": "stream",
     "text": [
      "layer 0 = ['ig', 'lg', 'addr', 'src', 'dst', 'type']\n",
      "layer 0 -- ig = False\n",
      "layer 0 -- lg = False\n",
      "layer 0 -- addr = <EkMultiField addr: 40:61:86:9a:f1:f5>\n",
      "layer 0 -- src = <EkMultiField src: 40:61:86:9a:f1:f5>\n",
      "layer 0 -- dst = <EkMultiField dst: 00:1a:8c:15:f9:80>\n",
      "layer 0 -- type = 2048\n",
      "\n",
      "\n",
      "layer 1 = ['flags', 'checksum', 'dsfield', 'host', 'len', 'addr', 'proto', 'id', 'hdr', 'version', 'src', 'dst', 'frag', 'ttl']\n",
      "layer 1 -- flags = <EkMultiField flags: 64>\n",
      "layer 1 -- checksum = <EkMultiField checksum: 40572>\n",
      "layer 1 -- dsfield = <EkMultiField dsfield>\n",
      "layer 1 -- host = ['192.168.3.131', '72.14.213.138']\n",
      "layer 1 -- len = 983\n",
      "layer 1 -- addr = ['192.168.3.131', '72.14.213.138']\n",
      "layer 1 -- proto = 6\n",
      "layer 1 -- id = 30432\n",
      "layer 1 -- hdr = <EkMultiField hdr>\n",
      "layer 1 -- version = 4\n",
      "layer 1 -- src = <EkMultiField src: 192.168.3.131>\n",
      "layer 1 -- dst = <EkMultiField dst: 72.14.213.138>\n",
      "layer 1 -- frag = <EkMultiField frag>\n",
      "layer 1 -- ttl = 128\n",
      "\n",
      "\n",
      "layer 2 = ['seq', 'window', 'urgent', 'payload', 'flags', 'analysis', 'checksum', 'port', 'dstport', 'nxtseq', 'ack', 'len', 'hdr', 'stream', 'srcport', 'time']\n",
      "layer 2 -- seq = <EkMultiField seq: 1>\n",
      "layer 2 -- window = <EkMultiField window>\n",
      "layer 2 -- urgent = <EkMultiField urgent>\n",
      "layer 2 -- payload = b'GET /complete/search?client=chrome&hl=en-US&q=cr HTTP/1.1\\r\\nHost: clients1.google.ca\\r\\nConnection: keep-alive\\r\\nUser-Agent: Mozilla/5.0 (Windows; U; Windows NT 6.1; en-US) AppleWebKit/534.10 (KHTML, like Gecko) Chrome/8.0.552.237 Safari/534.10\\r\\nAccept-Encoding: gzip,deflate,sdch\\r\\nAccept-Language: en-US,en;q=0.8\\r\\nAccept-Charset: ISO-8859-1,utf-8;q=0.7,*;q=0.3\\r\\nCookie: PREF=ID=c2e350012258df1c:U=386a6ebef0db287c:FF=0:TM=1294164294:LM=1294164294:S=bcuwM6Vh5ecKxqmk; SID=DQAAAN4AAAB3Mw7hSAXm29svfZQxRhaEVL5x_7JEyWEywPtfIKmV2QMCZ61VfSvGxg-WCwS7OYnEonavdReiTgZ_3JalcPyInxYbHG668hbhfVRxCHWraC8lNhhhZvC45L32WDjkPRRy0qmoz_3SGzDDgumB2mgyjTHiqRdgEmopsEvouobSZDRxixXdANvTHyq85PmVnzKHK_-x7hVdYhu44J6P_oI4bZWnHA966Qna73q5YOPPevvZQVX8F71nVjDk4aJM5KhlAQwBDx5fzrV9Wk_R_Y-egz0sDL9oC3fBURGVwp4ywQ; HSID=AqgM3JlzrVA3Qkiyz; NID=43=F_oSZWyo9Niadk17m65QtM9alBJQ4YL0B0yAP71ruNqa5sV4JORImsQovU1PW2PEII7a-5KUi4YCRMCeytuhiwkWgSlWtHEAj_nt_EF8y84MNmrtmRzK9Kth96N4-bPZ\\r\\n\\r\\n'\n",
      "layer 2 -- flags = <EkMultiField flags: 24>\n",
      "layer 2 -- analysis = <EkMultiField analysis>\n",
      "layer 2 -- checksum = <EkMultiField checksum: 24056>\n",
      "layer 2 -- port = [57011, 80]\n",
      "layer 2 -- dstport = 80\n",
      "layer 2 -- nxtseq = 944\n",
      "layer 2 -- ack = <EkMultiField ack: 1>\n",
      "layer 2 -- len = 943\n",
      "layer 2 -- hdr = <EkMultiField hdr>\n",
      "layer 2 -- stream = 0\n",
      "layer 2 -- srcport = 57011\n",
      "layer 2 -- time = <EkMultiField time>\n",
      "\n",
      "\n",
      "layer 3 = ['request', 'user', 'connection', 'host', 'cookie', 'accept']\n",
      "layer 3 -- request = <EkMultiField request: True>\n",
      "layer 3 -- user = <EkMultiField user>\n",
      "layer 3 -- connection = keep-alive\n",
      "layer 3 -- host = clients1.google.ca\n",
      "layer 3 -- cookie = <EkMultiField cookie: PREF=ID=c2e350012258df1c:U=386a6ebef0db287c:FF=0:TM=1294164294:LM=1294164294:S=bcuwM6Vh5ecKxqmk; SID=DQAAAN4AAAB3Mw7hSAXm29svfZQxRhaEVL5x_7JEyWEywPtfIKmV2QMCZ61VfSvGxg-WCwS7OYnEonavdReiTgZ_3JalcPyInxYbHG668hbhfVRxCHWraC8lNhhhZvC45L32WDjkPRRy0qmoz_3SGzDDgumB2mgyjTHiqRdgEmopsEvouobSZDRxixXdANvTHyq85PmVnzKHK_-x7hVdYhu44J6P_oI4bZWnHA966Qna73q5YOPPevvZQVX8F71nVjDk4aJM5KhlAQwBDx5fzrV9Wk_R_Y-egz0sDL9oC3fBURGVwp4ywQ; HSID=AqgM3JlzrVA3Qkiyz; NID=43=F_oSZWyo9Niadk17m65QtM9alBJQ4YL0B0yAP71ruNqa5sV4JORImsQovU1PW2PEII7a-5KUi4YCRMCeytuhiwkWgSlWtHEAj_nt_EF8y84MNmrtmRzK9Kth96N4-bPZ>\n",
      "layer 3 -- accept = <EkMultiField accept>\n",
      "\n",
      "\n"
     ]
    }
   ],
   "source": [
    "# printing one level below\n",
    "\n",
    "for i,layer in enumerate(list_layers):\n",
    "    fields_names = layer.field_names\n",
    "    print(f'layer {i} = {fields_names}')\n",
    "    for field in fields_names:\n",
    "        print(f\"layer {i} -- {field} = {layer.get(field)}\")\n",
    "    print(f'\\n')"
   ]
  },
  {
   "cell_type": "code",
   "execution_count": 8,
   "metadata": {},
   "outputs": [],
   "source": [
    "# change of parameter ek to False : will output JSON\n",
    "\n",
    "capture = pyshark.FileCapture(\n",
    "    input_file=PCAPFILE,\n",
    "    use_ek=False\n",
    ")\n",
    "\n",
    "pkt = capture[0]  # get first packet out of the Capture object\n",
    "\n",
    "paquet = cbl.PyPacket(pkt) # turn it into a dictionnary with the homemade class PyPacket"
   ]
  },
  {
   "cell_type": "code",
   "execution_count": 9,
   "metadata": {},
   "outputs": [
    {
     "data": {
      "text/plain": [
       "{'ETH': {'dst': '00:1a:8c:15:f9:80',\n",
       "  'src': '40:61:86:9a:f1:f5',\n",
       "  'type': '0x00000800'},\n",
       " 'IP': {'version': '4',\n",
       "  'hdr_len': '20',\n",
       "  'len': '983',\n",
       "  'id': '0x000076e0',\n",
       "  'flags': '0x00000040',\n",
       "  'ttl': '128',\n",
       "  'proto': '6',\n",
       "  'src': '192.168.3.131',\n",
       "  'dst': '72.14.213.138'},\n",
       " 'TCP': {'srcport': '57011',\n",
       "  'dstport': '80',\n",
       "  'stream': '0',\n",
       "  'len': '943',\n",
       "  'seq': '1',\n",
       "  'ack': '1',\n",
       "  'hdr_len': '20',\n",
       "  'flags': '0x00000018',\n",
       "  'time_relative': '0.000000000',\n",
       "  'time_delta': '0.000000000',\n",
       "  'payload': '47:45:54:20:2f:63:6f:6d:70:6c:65:74:65:2f:73:65:61:72:63:68:3f:63:6c:69:65:6e:74:3d:63:68:72:6f:6d:65:26:68:6c:3d:65:6e:2d:55:53:26:71:3d:63:72:20:48:54:54:50:2f:31:2e:31:0d:0a:48:6f:73:74:3a:20:63:6c:69:65:6e:74:73:31:2e:67:6f:6f:67:6c:65:2e:63:61:0d:0a:43:6f:6e:6e:65:63:74:69:6f:6e:3a:20:6b:65:65:70:2d:61:6c:69:76:65:0d:0a:55:73:65:72:2d:41:67:65:6e:74:3a:20:4d:6f:7a:69:6c:6c:61:2f:35:2e:30:20:28:57:69:6e:64:6f:77:73:3b:20:55:3b:20:57:69:6e:64:6f:77:73:20:4e:54:20:36:2e:31:3b:20:65:6e:2d:55:53:29:20:41:70:70:6c:65:57:65:62:4b:69:74:2f:35:33:34:2e:31:30:20:28:4b:48:54:4d:4c:2c:20:6c:69:6b:65:20:47:65:63:6b:6f:29:20:43:68:72:6f:6d:65:2f:38:2e:30:2e:35:35:32:2e:32:33:37:20:53:61:66:61:72:69:2f:35:33:34:2e:31:30:0d:0a:41:63:63:65:70:74:2d:45:6e:63:6f:64:69:6e:67:3a:20:67:7a:69:70:2c:64:65:66:6c:61:74:65:2c:73:64:63:68:0d:0a:41:63:63:65:70:74:2d:4c:61:6e:67:75:61:67:65:3a:20:65:6e:2d:55:53:2c:65:6e:3b:71:3d:30:2e:38:0d:0a:41:63:63:65:70:74:2d:43:68:61:72:73:65:74:3a:20:49:53:4f:2d:38:38:35:39:2d:31:2c:75:74:66:2d:38:3b:71:3d:30:2e:37:2c:2a:3b:71:3d:30:2e:33:0d:0a:43:6f:6f:6b:69:65:3a:20:50:52:45:46:3d:49:44:3d:63:32:65:33:35:30:30:31:32:32:35:38:64:66:31:63:3a:55:3d:33:38:36:61:36:65:62:65:66:30:64:62:32:38:37:63:3a:46:46:3d:30:3a:54:4d:3d:31:32:39:34:31:36:34:32:39:34:3a:4c:4d:3d:31:32:39:34:31:36:34:32:39:34:3a:53:3d:62:63:75:77:4d:36:56:68:35:65:63:4b:78:71:6d:6b:3b:20:53:49:44:3d:44:51:41:41:41:4e:34:41:41:41:42:33:4d:77:37:68:53:41:58:6d:32:39:73:76:66:5a:51:78:52:68:61:45:56:4c:35:78:5f:37:4a:45:79:57:45:79:77:50:74:66:49:4b:6d:56:32:51:4d:43:5a:36:31:56:66:53:76:47:78:67:2d:57:43:77:53:37:4f:59:6e:45:6f:6e:61:76:64:52:65:69:54:67:5a:5f:33:4a:61:6c:63:50:79:49:6e:78:59:62:48:47:36:36:38:68:62:68:66:56:52:78:43:48:57:72:61:43:38:6c:4e:68:68:68:5a:76:43:34:35:4c:33:32:57:44:6a:6b:50:52:52:79:30:71:6d:6f:7a:5f:33:53:47:7a:44:44:67:75:6d:42:32:6d:67:79:6a:54:48:69:71:52:64:67:45:6d:6f:70:73:45:76:6f:75:6f:62:53:5a:44:52:78:69:78:58:64:41:4e:76:54:48:79:71:38:35:50:6d:56:6e:7a:4b:48:4b:5f:2d:78:37:68:56:64:59:68:75:34:34:4a:36:50:5f:6f:49:34:62:5a:57:6e:48:41:39:36:36:51:6e:61:37:33:71:35:59:4f:50:50:65:76:76:5a:51:56:58:38:46:37:31:6e:56:6a:44:6b:34:61:4a:4d:35:4b:68:6c:41:51:77:42:44:78:35:66:7a:72:56:39:57:6b:5f:52:5f:59:2d:65:67:7a:30:73:44:4c:39:6f:43:33:66:42:55:52:47:56:77:70:34:79:77:51:3b:20:48:53:49:44:3d:41:71:67:4d:33:4a:6c:7a:72:56:41:33:51:6b:69:79:7a:3b:20:4e:49:44:3d:34:33:3d:46:5f:6f:53:5a:57:79:6f:39:4e:69:61:64:6b:31:37:6d:36:35:51:74:4d:39:61:6c:42:4a:51:34:59:4c:30:42:30:79:41:50:37:31:72:75:4e:71:61:35:73:56:34:4a:4f:52:49:6d:73:51:6f:76:55:31:50:57:32:50:45:49:49:37:61:2d:35:4b:55:69:34:59:43:52:4d:43:65:79:74:75:68:69:77:6b:57:67:53:6c:57:74:48:45:41:6a:5f:6e:74:5f:45:46:38:79:38:34:4d:4e:6d:72:74:6d:52:7a:4b:39:4b:74:68:39:36:4e:34:2d:62:50:5a:0d:0a:0d:0a'},\n",
       " 'TIMESTAMP': {'ts': datetime.datetime(2011, 1, 25, 19, 52, 22, 484409)}}"
      ]
     },
     "execution_count": 9,
     "metadata": {},
     "output_type": "execute_result"
    }
   ],
   "source": [
    "# create the dictionnary with the fields of the first packet\n",
    "\n",
    "paquet.data"
   ]
  },
  {
   "cell_type": "code",
   "execution_count": 10,
   "metadata": {},
   "outputs": [
    {
     "data": {
      "text/html": [
       "<div>\n",
       "<style scoped>\n",
       "    .dataframe tbody tr th:only-of-type {\n",
       "        vertical-align: middle;\n",
       "    }\n",
       "\n",
       "    .dataframe tbody tr th {\n",
       "        vertical-align: top;\n",
       "    }\n",
       "\n",
       "    .dataframe thead th {\n",
       "        text-align: right;\n",
       "    }\n",
       "</style>\n",
       "<table border=\"1\" class=\"dataframe\">\n",
       "  <thead>\n",
       "    <tr style=\"text-align: right;\">\n",
       "      <th></th>\n",
       "      <th>ETH_dst</th>\n",
       "      <th>ETH_src</th>\n",
       "      <th>ETH_type</th>\n",
       "      <th>IP_version</th>\n",
       "      <th>IP_hdr_len</th>\n",
       "      <th>IP_len</th>\n",
       "      <th>IP_id</th>\n",
       "      <th>IP_flags</th>\n",
       "      <th>IP_ttl</th>\n",
       "      <th>IP_proto</th>\n",
       "      <th>...</th>\n",
       "      <th>TCP_stream</th>\n",
       "      <th>TCP_len</th>\n",
       "      <th>TCP_seq</th>\n",
       "      <th>TCP_ack</th>\n",
       "      <th>TCP_hdr_len</th>\n",
       "      <th>TCP_flags</th>\n",
       "      <th>TCP_time_relative</th>\n",
       "      <th>TCP_time_delta</th>\n",
       "      <th>TCP_payload</th>\n",
       "      <th>TIMESTAMP_ts</th>\n",
       "    </tr>\n",
       "  </thead>\n",
       "  <tbody>\n",
       "    <tr>\n",
       "      <th>0</th>\n",
       "      <td>00:1a:8c:15:f9:80</td>\n",
       "      <td>40:61:86:9a:f1:f5</td>\n",
       "      <td>0x00000800</td>\n",
       "      <td>4</td>\n",
       "      <td>20</td>\n",
       "      <td>983</td>\n",
       "      <td>0x000076e0</td>\n",
       "      <td>0x00000040</td>\n",
       "      <td>128</td>\n",
       "      <td>6</td>\n",
       "      <td>...</td>\n",
       "      <td>0</td>\n",
       "      <td>943</td>\n",
       "      <td>1</td>\n",
       "      <td>1</td>\n",
       "      <td>20</td>\n",
       "      <td>0x00000018</td>\n",
       "      <td>0.000000000</td>\n",
       "      <td>0.000000000</td>\n",
       "      <td>47:45:54:20:2f:63:6f:6d:70:6c:65:74:65:2f:73:6...</td>\n",
       "      <td>2011-01-25 19:52:22.484409</td>\n",
       "    </tr>\n",
       "  </tbody>\n",
       "</table>\n",
       "<p>1 rows × 24 columns</p>\n",
       "</div>"
      ],
      "text/plain": [
       "             ETH_dst            ETH_src    ETH_type IP_version IP_hdr_len  \\\n",
       "0  00:1a:8c:15:f9:80  40:61:86:9a:f1:f5  0x00000800          4         20   \n",
       "\n",
       "  IP_len       IP_id    IP_flags IP_ttl IP_proto  ... TCP_stream TCP_len  \\\n",
       "0    983  0x000076e0  0x00000040    128        6  ...          0     943   \n",
       "\n",
       "  TCP_seq TCP_ack TCP_hdr_len   TCP_flags TCP_time_relative TCP_time_delta  \\\n",
       "0       1       1          20  0x00000018       0.000000000    0.000000000   \n",
       "\n",
       "                                         TCP_payload  \\\n",
       "0  47:45:54:20:2f:63:6f:6d:70:6c:65:74:65:2f:73:6...   \n",
       "\n",
       "                TIMESTAMP_ts  \n",
       "0 2011-01-25 19:52:22.484409  \n",
       "\n",
       "[1 rows x 24 columns]"
      ]
     },
     "execution_count": 10,
     "metadata": {},
     "output_type": "execute_result"
    }
   ],
   "source": [
    "# finally, outputs a dataframe\n",
    "\n",
    "df = paquet.dataframe\n",
    "\n",
    "df"
   ]
  },
  {
   "cell_type": "markdown",
   "metadata": {},
   "source": [
    "### Dataframe creations out of the pcap file"
   ]
  },
  {
   "cell_type": "code",
   "execution_count": 11,
   "metadata": {},
   "outputs": [],
   "source": [
    "# run the 3 pcaps into a dataframe and save them\n",
    "\n",
    "file_dict = {\n",
    "    'test.pcap' : '/home/benjamin/Folders_Python/Cyber/data/input_pcaps/test.pcap',\n",
    "    'smallFlows.pcap' : '/home/benjamin/Folders_Python/Cyber/data/input_pcaps/smallFlows.pcap',\n",
    "    # 'bigFlows.pcap' : '/home/benjamin/Folders_Python/Cyber/data/input_pcaps/bigFlows.pcap'   # large and takes time\n",
    "}\n",
    "\n",
    "DIRPATH = '/home/benjamin/Folders_Python/Cyber/data/dataframes/'"
   ]
  },
  {
   "cell_type": "code",
   "execution_count": 12,
   "metadata": {},
   "outputs": [
    {
     "name": "stdout",
     "output_type": "stream",
     "text": [
      "processing test.pcap\n",
      "processing packet number 141\n",
      "\n",
      "saving test.pcap as pickle\n",
      "processing smallFlows.pcap\n",
      "processing packet number 14261\n",
      "\n",
      "saving smallFlows.pcap as pickle\n"
     ]
    }
   ],
   "source": [
    "for filename, filepath in file_dict.items():\n",
    "    print(f\"processing {filename}\")\n",
    "    \n",
    "    capture = pyshark.FileCapture(\n",
    "        input_file=filepath,\n",
    "        use_ek=False\n",
    "        )\n",
    "    \n",
    "    df_full = pd.DataFrame()\n",
    "    i=0\n",
    "\n",
    "    while True:\n",
    "        try:\n",
    "            pkt = capture.next()\n",
    "            paquet = cbl.PyPacket(pkt)\n",
    "            df = paquet.dataframe\n",
    "            df_full = pd.concat([df_full, df], axis=0)\n",
    "            i += 1\n",
    "            print (f'processing packet number {i}', end='\\r')\n",
    "        except StopIteration as e:\n",
    "            logger.info(f\"reached end of capture after reading {i} packets\")\n",
    "            break\n",
    "        \n",
    "    df_full = df_full.reset_index(drop=True)\n",
    "    \n",
    "    savename = DIRPATH + filename + '.pkl'\n",
    "    df_full.to_pickle(savename)\n",
    "    print('\\n')\n",
    "    print(f'saving {filename} as pickle')"
   ]
  }
 ],
 "metadata": {
  "kernelspec": {
   "display_name": "cyber",
   "language": "python",
   "name": "python3"
  },
  "language_info": {
   "codemirror_mode": {
    "name": "ipython",
    "version": 3
   },
   "file_extension": ".py",
   "mimetype": "text/x-python",
   "name": "python",
   "nbconvert_exporter": "python",
   "pygments_lexer": "ipython3",
   "version": "3.10.9"
  },
  "orig_nbformat": 4
 },
 "nbformat": 4,
 "nbformat_minor": 2
}
