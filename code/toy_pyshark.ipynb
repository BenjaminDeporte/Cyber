{
 "cells": [
  {
   "cell_type": "code",
   "execution_count": null,
   "metadata": {},
   "outputs": [],
   "source": [
    "import numpy as np\n",
    "import pandas as pd\n",
    "import pyshark\n",
    "import matplotlib.pyplot as plt\n",
    "import json # original json library\n",
    "import logging"
   ]
  },
  {
   "cell_type": "code",
   "execution_count": null,
   "metadata": {},
   "outputs": [],
   "source": [
    "import sys\n",
    "sys.path.append('/home/benjamin/Folders_Python/Cyber/libs')"
   ]
  },
  {
   "cell_type": "code",
   "execution_count": null,
   "metadata": {},
   "outputs": [],
   "source": [
    "LOG_FILENAME = '/home/benjamin/Folders_Python/Cyber/logs/logfile.log'\n",
    "LOG_FORMAT = '%(asctime)% -- %(name)s -- %(levelname)s -- %(message)s'\n",
    "# LOG_LEVEL = logging.INFO\n",
    "\n",
    "# specific logger for the module\n",
    "logger = logging.getLogger(__name__)   # creates specific logger for the module\n",
    "logger.setLevel(logging.DEBUG)    # entry level of messages from all handlers\n",
    "LOG_FORMAT = '%(asctime)s -- %(name)s -- %(levelname)s -- %(message)s'\n",
    "formatter = logging.Formatter(LOG_FORMAT)\n",
    "\n",
    "# file handler to log everything\n",
    "file_handler = logging.FileHandler(LOG_FILENAME, mode='w')\n",
    "file_handler.setLevel(logging.DEBUG)  # all messages (DEBUG and up) get logged in the file\n",
    "file_handler.setFormatter(formatter)\n",
    "logger.addHandler(file_handler)\n",
    "\n",
    "# stream handler to show messages to the console\n",
    "console = logging.StreamHandler()\n",
    "console.setLevel(logging.WARNING)  # Warning messages and up get displayed to the console\n",
    "console.setFormatter(formatter)\n",
    "logger.addHandler(console)\n",
    "\n",
    "# start your engine\n",
    "logger.info(\"-------- new run --------\")"
   ]
  },
  {
   "cell_type": "code",
   "execution_count": null,
   "metadata": {},
   "outputs": [],
   "source": [
    "# PCAPFILE = '/home/benjamin/Folders_Python/Cyber/data/input_pcaps/test.pcap'\n",
    "PCAPFILE = '/home/benjamin/Folders_Python/Cyber/data/input_pcaps/smallFlows.pcap'\n",
    "# PCAPFILE = '/home/benjamin/Folders_Python/Cyber/data/input_pcaps/test.pcap'\n",
    "\n",
    "logger.info(f'-- entry pcap file = {PCAPFILE} --')"
   ]
  },
  {
   "cell_type": "code",
   "execution_count": null,
   "metadata": {},
   "outputs": [],
   "source": [
    "capture = pyshark.FileCapture(\n",
    "    input_file=PCAPFILE,\n",
    "    use_ek=True\n",
    ")\n",
    "\n",
    "print(capture)\n",
    "\n",
    "pkt = capture[0]"
   ]
  },
  {
   "cell_type": "code",
   "execution_count": null,
   "metadata": {},
   "outputs": [],
   "source": [
    "dir(pkt)"
   ]
  },
  {
   "cell_type": "code",
   "execution_count": null,
   "metadata": {},
   "outputs": [],
   "source": [
    "list_layers = pkt.layers\n",
    "\n",
    "print(list_layers)"
   ]
  },
  {
   "cell_type": "code",
   "execution_count": null,
   "metadata": {},
   "outputs": [],
   "source": [
    "for i,layer in enumerate(list_layers):\n",
    "    fields_names = layer.field_names\n",
    "    print(f'layer {i} = {fields_names}')\n",
    "    for field in fields_names:\n",
    "        print(f\"layer {i} -- {field} = {layer.get(field)}\")\n",
    "    print(f'\\n')"
   ]
  },
  {
   "cell_type": "code",
   "execution_count": null,
   "metadata": {},
   "outputs": [],
   "source": [
    "capture = pyshark.FileCapture(\n",
    "    input_file=PCAPFILE,\n",
    "    use_ek=False\n",
    ")"
   ]
  },
  {
   "cell_type": "code",
   "execution_count": null,
   "metadata": {},
   "outputs": [],
   "source": [
    "# for i, pkt in enumerate(capture):\n",
    "#     pkt.pretty_print()\n",
    "#     print(f'-- {i} ----------------------------------------------------------\\n')"
   ]
  },
  {
   "cell_type": "code",
   "execution_count": null,
   "metadata": {},
   "outputs": [],
   "source": [
    "import cyberlib as cbl"
   ]
  },
  {
   "cell_type": "code",
   "execution_count": null,
   "metadata": {},
   "outputs": [],
   "source": [
    "pkt = capture[0]"
   ]
  },
  {
   "cell_type": "code",
   "execution_count": null,
   "metadata": {},
   "outputs": [],
   "source": [
    "paquet = cbl.PyPacket(pkt)"
   ]
  },
  {
   "cell_type": "code",
   "execution_count": null,
   "metadata": {},
   "outputs": [],
   "source": [
    "paquet.data"
   ]
  },
  {
   "cell_type": "code",
   "execution_count": null,
   "metadata": {},
   "outputs": [],
   "source": [
    "df = paquet.dataframe"
   ]
  },
  {
   "cell_type": "code",
   "execution_count": null,
   "metadata": {},
   "outputs": [],
   "source": [
    "df"
   ]
  },
  {
   "cell_type": "code",
   "execution_count": null,
   "metadata": {},
   "outputs": [],
   "source": [
    "# run the 3 pcaps into a dataframe and save them\n",
    "\n",
    "file_dict = {\n",
    "    'test.pcap' : '/home/benjamin/Folders_Python/Cyber/data/input_pcaps/test.pcap',\n",
    "    'smallFlows.pcap' : '/home/benjamin/Folders_Python/Cyber/data/input_pcaps/smallFlows.pcap',\n",
    "    'bigFlows.pcap' : '/home/benjamin/Folders_Python/Cyber/data/input_pcaps/bigFlows.pcap'\n",
    "}\n",
    "\n",
    "DIRPATH = '/home/benjamin/Folders_Python/Cyber/data/dataframes/'"
   ]
  },
  {
   "cell_type": "code",
   "execution_count": null,
   "metadata": {},
   "outputs": [],
   "source": [
    "for filename, filepath in file_dict.items():\n",
    "    print(f\"processing {filename}\")\n",
    "    \n",
    "    capture = pyshark.FileCapture(\n",
    "        input_file=filepath,\n",
    "        use_ek=False\n",
    "        )\n",
    "    \n",
    "    df_full = pd.DataFrame()\n",
    "    i=0\n",
    "\n",
    "    while True:\n",
    "        try:\n",
    "            pkt = capture.next()\n",
    "            paquet = cbl.PyPacket(pkt)\n",
    "            df = paquet.dataframe\n",
    "            df_full = pd.concat([df_full, df], axis=0)\n",
    "            i += 1\n",
    "            print (f'processing packet number {i}', end='\\r')\n",
    "        except StopIteration as e:\n",
    "            logger.info(f\"reached end of capture after reading {i} packets\")\n",
    "            break\n",
    "        \n",
    "    df_full = df_full.reset_index(drop=True)\n",
    "    \n",
    "    savename = DIRPATH + filename + '.pkl'\n",
    "    df_full.to_pickle(savename)\n",
    "    print('\\n')\n",
    "    print(f'saving {filename} as pickle')"
   ]
  }
 ],
 "metadata": {
  "kernelspec": {
   "display_name": "cyber",
   "language": "python",
   "name": "python3"
  },
  "language_info": {
   "codemirror_mode": {
    "name": "ipython",
    "version": 3
   },
   "file_extension": ".py",
   "mimetype": "text/x-python",
   "name": "python",
   "nbconvert_exporter": "python",
   "pygments_lexer": "ipython3",
   "version": "3.10.9"
  },
  "orig_nbformat": 4
 },
 "nbformat": 4,
 "nbformat_minor": 2
}
