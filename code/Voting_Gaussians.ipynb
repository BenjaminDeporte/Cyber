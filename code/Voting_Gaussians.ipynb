{
 "cells": [
  {
   "cell_type": "markdown",
   "metadata": {},
   "source": [
    "# Test"
   ]
  },
  {
   "cell_type": "code",
   "execution_count": 1,
   "metadata": {},
   "outputs": [],
   "source": [
    "import numpy as np\n",
    "import matplotlib.pyplot as plt"
   ]
  },
  {
   "cell_type": "code",
   "execution_count": 2,
   "metadata": {},
   "outputs": [],
   "source": [
    "class GaussianBundle:\n",
    "    \"\"\"Class Gaussian Bundle\n",
    "    - modélise une Gaussienne (avec vecteur moyenne et matrice de covariance)\n",
    "    - inclut un compteur de datapoints reliés à la Gaussienne\n",
    "    \"\"\"\n",
    "    \n",
    "    def __init__(self, mu, sigma, ctr=None):\n",
    "        \"\"\"constructeur\n",
    "\n",
    "        Args:\n",
    "            mu (array of length D): vecteur moyenne\n",
    "            sigma (array of shape DxD): matrice de covariance. Supposée définie positive.\n",
    "        \"\"\"\n",
    "        \n",
    "        self.D = mu.shape[0]\n",
    "        self.mu = mu\n",
    "        self.sigma = sigma\n",
    "        if ctr==None:\n",
    "            self.ctr = 0\n",
    "        else:\n",
    "            self.ctr = ctr\n",
    "        \n",
    "    def add_point(self, x):\n",
    "        \"\"\"ajoute point à la Gaussienne :\n",
    "        - update mu et covariance\n",
    "        - ajoute 1 au compteur\n",
    "\n",
    "        Args:\n",
    "            x (array of length D): nouveau point\n",
    "        \"\"\"\n",
    "        \n",
    "        # mini test de dimension\n",
    "        assert x.shape[0] == self.D, \"nouveau point de dimension différente de la Gaussienne de rattachement\"\n",
    "        \n",
    "        # update vecteur moyenne mu\n",
    "        n = self.ctr\n",
    "        mu_n = self.mu \n",
    "        self.mu = mu_n * n / (n+1) + 1 / (n+1) * x # calcul mu_n+1\n",
    "        \n",
    "        # update covariance\n",
    "        sigma_n = self.sigma\n",
    "        self.sigma = n/(n+1) * sigma_n + n/(n+1)**3 * np.matmul((x-mu_n).reshape(self.D,1), (x-mu_n).reshape(1,self.D) ) + 1/(n+1) * np.matmul( (x-self.mu).reshape(self.D,1), (x-self.mu).reshape(1,self.D))\n",
    "        \n",
    "        # incrémente compteur\n",
    "        self.ctr += 1\n",
    "        \n",
    "    \n",
    "    def __str__(self):\n",
    "        msg = \"Gaussian bundle \\n\" + f\"Dimension {self.D} \\n\" + f\"mu = {self.mu} \" + f\"cov = {self.sigma} \\n\" + f'points assignés = {self.ctr}'\n",
    "        return msg\n",
    "    \n",
    "    def __repr__(self):\n",
    "        msg = \"Gaussian bundle \\n\" + f\"Dimension {self.D} \\n\" + f\"mu = {self.mu} \" + f\"cov = {self.sigma} \\n\" + f'points assignés = {self.ctr}'\n",
    "        return msg"
   ]
  },
  {
   "cell_type": "code",
   "execution_count": 3,
   "metadata": {},
   "outputs": [],
   "source": [
    "points = np.array( [[1,1], [3,2], [0,-1], [4,0], [2,2]])\n",
    "\n",
    "mu = np.mean(points, axis=0)\n",
    "n = len(mu)\n",
    "\n",
    "cov = np.array( [[0,0], [0,0] ])\n",
    "for p in points:\n",
    "    cov = cov + np.matmul((p-mu).reshape(n,1), (p-mu).reshape(1,n))\n",
    "cov = 1/len(points) * cov"
   ]
  },
  {
   "cell_type": "code",
   "execution_count": 4,
   "metadata": {},
   "outputs": [
    {
     "name": "stdout",
     "output_type": "stream",
     "text": [
      "[2.  0.8]\n",
      "[[2.   0.6 ]\n",
      " [0.6  1.36]]\n"
     ]
    }
   ],
   "source": [
    "print(mu)\n",
    "print(cov)"
   ]
  },
  {
   "cell_type": "code",
   "execution_count": 5,
   "metadata": {},
   "outputs": [],
   "source": [
    "def calcul_parametres(liste_points):\n",
    "    \"\"\"calcul mu et sigma sur une liste de points 2D\"\"\"\n",
    "    \n",
    "    points = np.array(liste_points)\n",
    "    # print(points)\n",
    "    D = points.shape[-1]\n",
    "    # print(D)\n",
    "    mu = np.mean( np.array(liste_points), axis=0 )\n",
    "    # print(mu)\n",
    "    sigma = 0\n",
    "    for i in range(len(liste_points)):\n",
    "        point = points[i]\n",
    "        sigma = sigma + np.matmul( (point-mu).reshape(D,1), (point-mu).reshape(1,D))\n",
    "    sigma = 1/len(liste_points) * sigma\n",
    "        \n",
    "    return mu, sigma \n",
    "    "
   ]
  },
  {
   "cell_type": "code",
   "execution_count": 6,
   "metadata": {},
   "outputs": [],
   "source": [
    "liste_points = [[1,1], [3,2], [0,-1], [4,0], [2,2]]"
   ]
  },
  {
   "cell_type": "code",
   "execution_count": 7,
   "metadata": {},
   "outputs": [],
   "source": [
    "mu, sigma = calcul_parametres(liste_points=liste_points)"
   ]
  },
  {
   "cell_type": "code",
   "execution_count": 8,
   "metadata": {},
   "outputs": [
    {
     "data": {
      "text/plain": [
       "array([[2.  , 0.6 ],\n",
       "       [0.6 , 1.36]])"
      ]
     },
     "execution_count": 8,
     "metadata": {},
     "output_type": "execute_result"
    }
   ],
   "source": [
    "sigma"
   ]
  },
  {
   "cell_type": "code",
   "execution_count": 9,
   "metadata": {},
   "outputs": [],
   "source": [
    "# test\n",
    "\n",
    "liste_initiale = [[1,1], [3,2], [0,-1], [4,0], [2,2]] \n",
    "liste_supplements = [ [1,5], [-2,-3], [0,0], [4,7], [-8,3]]\n",
    "\n",
    "liste_totale = liste_initiale + liste_supplements"
   ]
  },
  {
   "cell_type": "code",
   "execution_count": 10,
   "metadata": {},
   "outputs": [
    {
     "name": "stdout",
     "output_type": "stream",
     "text": [
      "[2.  0.8]\n",
      "[[2.   0.6 ]\n",
      " [0.6  1.36]]\n"
     ]
    },
    {
     "data": {
      "text/plain": [
       "Gaussian bundle \n",
       "Dimension 2 \n",
       "mu = [2.  0.8] cov = [[2.   0.6 ]\n",
       " [0.6  1.36]] \n",
       "points assignés = 5"
      ]
     },
     "execution_count": 10,
     "metadata": {},
     "output_type": "execute_result"
    }
   ],
   "source": [
    "# Gaussienne Initiale\n",
    "\n",
    "mu_init, sigma_init = calcul_parametres(liste_points=liste_initiale)\n",
    "\n",
    "print(mu_init)\n",
    "print(sigma_init)\n",
    "\n",
    "gb_init = GaussianBundle(mu_init, sigma_init, ctr=5)\n",
    "gb_init"
   ]
  },
  {
   "cell_type": "code",
   "execution_count": 11,
   "metadata": {},
   "outputs": [
    {
     "name": "stdout",
     "output_type": "stream",
     "text": [
      "[0.5 1.6]\n",
      "[[11.25  1.8 ]\n",
      " [ 1.8   7.64]]\n"
     ]
    },
    {
     "data": {
      "text/plain": [
       "Gaussian bundle \n",
       "Dimension 2 \n",
       "mu = [0.5 1.6] cov = [[11.25  1.8 ]\n",
       " [ 1.8   7.64]] \n",
       "points assignés = 10"
      ]
     },
     "execution_count": 11,
     "metadata": {},
     "output_type": "execute_result"
    }
   ],
   "source": [
    "# Gaussienne Finale\n",
    "\n",
    "mu_finale, sigma_finale = calcul_parametres(liste_points=liste_totale)\n",
    "\n",
    "print(mu_finale)\n",
    "print(sigma_finale)\n",
    "\n",
    "gb_finale = GaussianBundle(mu_finale, sigma_finale, ctr=len(liste_totale))\n",
    "gb_finale"
   ]
  },
  {
   "cell_type": "code",
   "execution_count": 12,
   "metadata": {},
   "outputs": [
    {
     "name": "stdout",
     "output_type": "stream",
     "text": [
      "[0.5 1.6]\n",
      "[[11.25  1.8 ]\n",
      " [ 1.8   7.64]]\n"
     ]
    }
   ],
   "source": [
    "# test formules\n",
    "\n",
    "for p in liste_supplements:\n",
    "    point = np.array(p)\n",
    "    gb_init.add_point(point)\n",
    "    \n",
    "mu_f = gb_init.mu\n",
    "sigma_f = gb_init.sigma\n",
    "\n",
    "print(mu_f)\n",
    "print(sigma_f)"
   ]
  },
  {
   "cell_type": "code",
   "execution_count": 13,
   "metadata": {},
   "outputs": [
    {
     "data": {
      "text/plain": [
       "Gaussian bundle \n",
       "Dimension 2 \n",
       "mu = [0.5 1.6] cov = [[11.25  1.8 ]\n",
       " [ 1.8   7.64]] \n",
       "points assignés = 10"
      ]
     },
     "execution_count": 13,
     "metadata": {},
     "output_type": "execute_result"
    }
   ],
   "source": [
    "gb_init"
   ]
  }
 ],
 "metadata": {
  "kernelspec": {
   "display_name": "bayes",
   "language": "python",
   "name": "python3"
  },
  "language_info": {
   "codemirror_mode": {
    "name": "ipython",
    "version": 3
   },
   "file_extension": ".py",
   "mimetype": "text/x-python",
   "name": "python",
   "nbconvert_exporter": "python",
   "pygments_lexer": "ipython3",
   "version": "3.11.9"
  }
 },
 "nbformat": 4,
 "nbformat_minor": 2
}
